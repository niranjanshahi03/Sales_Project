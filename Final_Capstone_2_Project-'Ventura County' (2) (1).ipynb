{
 "cells": [
  {
   "cell_type": "markdown",
   "metadata": {},
   "source": [
    "# Part I: Descriptive Statistics"
   ]
  },
  {
   "cell_type": "markdown",
   "metadata": {},
   "source": [
    "## Import Libraries "
   ]
  },
  {
   "cell_type": "code",
   "execution_count": 1,
   "metadata": {},
   "outputs": [],
   "source": [
    "import matplotlib.pyplot as plt\n",
    "import seaborn as sns\n",
    "import pandas as pd\n",
    "import statsmodels.api as sm\n",
    "import numpy as np"
   ]
  },
  {
   "cell_type": "markdown",
   "metadata": {},
   "source": [
    "## Import and Filter Data"
   ]
  },
  {
   "cell_type": "code",
   "execution_count": 2,
   "metadata": {},
   "outputs": [
    {
     "data": {
      "text/html": [
       "<div>\n",
       "<style scoped>\n",
       "    .dataframe tbody tr th:only-of-type {\n",
       "        vertical-align: middle;\n",
       "    }\n",
       "\n",
       "    .dataframe tbody tr th {\n",
       "        vertical-align: top;\n",
       "    }\n",
       "\n",
       "    .dataframe thead th {\n",
       "        text-align: right;\n",
       "    }\n",
       "</style>\n",
       "<table border=\"1\" class=\"dataframe\">\n",
       "  <thead>\n",
       "    <tr style=\"text-align: right;\">\n",
       "      <th></th>\n",
       "      <th>region</th>\n",
       "      <th>price</th>\n",
       "      <th>type</th>\n",
       "      <th>sqfeet</th>\n",
       "      <th>beds</th>\n",
       "      <th>baths</th>\n",
       "      <th>cats_allowed</th>\n",
       "      <th>dogs_allowed</th>\n",
       "      <th>smoking_allowed</th>\n",
       "      <th>wheelchair_access</th>\n",
       "      <th>electric_vehicle_charge</th>\n",
       "      <th>comes_furnished</th>\n",
       "      <th>laundry_options</th>\n",
       "      <th>parking_options</th>\n",
       "      <th>description</th>\n",
       "      <th>lat</th>\n",
       "      <th>long</th>\n",
       "      <th>state</th>\n",
       "    </tr>\n",
       "  </thead>\n",
       "  <tbody>\n",
       "    <tr>\n",
       "      <th>0</th>\n",
       "      <td>reno / tahoe</td>\n",
       "      <td>1148</td>\n",
       "      <td>apartment</td>\n",
       "      <td>1078</td>\n",
       "      <td>3</td>\n",
       "      <td>2.0</td>\n",
       "      <td>1</td>\n",
       "      <td>1</td>\n",
       "      <td>0</td>\n",
       "      <td>0</td>\n",
       "      <td>0</td>\n",
       "      <td>0</td>\n",
       "      <td>w/d in unit</td>\n",
       "      <td>carport</td>\n",
       "      <td>Ridgeview by Vintage is where you will find al...</td>\n",
       "      <td>39.5483</td>\n",
       "      <td>-119.796</td>\n",
       "      <td>ca</td>\n",
       "    </tr>\n",
       "    <tr>\n",
       "      <th>1</th>\n",
       "      <td>reno / tahoe</td>\n",
       "      <td>1200</td>\n",
       "      <td>condo</td>\n",
       "      <td>1001</td>\n",
       "      <td>2</td>\n",
       "      <td>2.0</td>\n",
       "      <td>0</td>\n",
       "      <td>0</td>\n",
       "      <td>0</td>\n",
       "      <td>0</td>\n",
       "      <td>0</td>\n",
       "      <td>0</td>\n",
       "      <td>w/d hookups</td>\n",
       "      <td>carport</td>\n",
       "      <td>Conveniently located in the middle town of Ren...</td>\n",
       "      <td>39.5026</td>\n",
       "      <td>-119.789</td>\n",
       "      <td>ca</td>\n",
       "    </tr>\n",
       "    <tr>\n",
       "      <th>2</th>\n",
       "      <td>reno / tahoe</td>\n",
       "      <td>1813</td>\n",
       "      <td>apartment</td>\n",
       "      <td>1683</td>\n",
       "      <td>2</td>\n",
       "      <td>2.0</td>\n",
       "      <td>1</td>\n",
       "      <td>1</td>\n",
       "      <td>1</td>\n",
       "      <td>0</td>\n",
       "      <td>0</td>\n",
       "      <td>0</td>\n",
       "      <td>w/d in unit</td>\n",
       "      <td>attached garage</td>\n",
       "      <td>2BD | 2BA | 1683SQFTDiscover exceptional servi...</td>\n",
       "      <td>39.6269</td>\n",
       "      <td>-119.708</td>\n",
       "      <td>ca</td>\n",
       "    </tr>\n",
       "    <tr>\n",
       "      <th>3</th>\n",
       "      <td>reno / tahoe</td>\n",
       "      <td>1095</td>\n",
       "      <td>apartment</td>\n",
       "      <td>708</td>\n",
       "      <td>1</td>\n",
       "      <td>1.0</td>\n",
       "      <td>1</td>\n",
       "      <td>1</td>\n",
       "      <td>1</td>\n",
       "      <td>0</td>\n",
       "      <td>0</td>\n",
       "      <td>0</td>\n",
       "      <td>w/d in unit</td>\n",
       "      <td>carport</td>\n",
       "      <td>MOVE IN SPECIAL FREE WASHER/DRYER WITH 6 OR 12...</td>\n",
       "      <td>39.4477</td>\n",
       "      <td>-119.771</td>\n",
       "      <td>ca</td>\n",
       "    </tr>\n",
       "    <tr>\n",
       "      <th>4</th>\n",
       "      <td>reno / tahoe</td>\n",
       "      <td>289</td>\n",
       "      <td>apartment</td>\n",
       "      <td>250</td>\n",
       "      <td>0</td>\n",
       "      <td>1.0</td>\n",
       "      <td>1</td>\n",
       "      <td>1</td>\n",
       "      <td>1</td>\n",
       "      <td>1</td>\n",
       "      <td>0</td>\n",
       "      <td>1</td>\n",
       "      <td>laundry on site</td>\n",
       "      <td>NaN</td>\n",
       "      <td>Move In Today: Reno Low-Cost, Clean &amp; Furnishe...</td>\n",
       "      <td>39.5357</td>\n",
       "      <td>-119.805</td>\n",
       "      <td>ca</td>\n",
       "    </tr>\n",
       "  </tbody>\n",
       "</table>\n",
       "</div>"
      ],
      "text/plain": [
       "         region  price       type  sqfeet  beds  baths  cats_allowed  \\\n",
       "0  reno / tahoe   1148  apartment    1078     3    2.0             1   \n",
       "1  reno / tahoe   1200      condo    1001     2    2.0             0   \n",
       "2  reno / tahoe   1813  apartment    1683     2    2.0             1   \n",
       "3  reno / tahoe   1095  apartment     708     1    1.0             1   \n",
       "4  reno / tahoe    289  apartment     250     0    1.0             1   \n",
       "\n",
       "   dogs_allowed  smoking_allowed  wheelchair_access  electric_vehicle_charge  \\\n",
       "0             1                0                  0                        0   \n",
       "1             0                0                  0                        0   \n",
       "2             1                1                  0                        0   \n",
       "3             1                1                  0                        0   \n",
       "4             1                1                  1                        0   \n",
       "\n",
       "   comes_furnished  laundry_options  parking_options  \\\n",
       "0                0      w/d in unit          carport   \n",
       "1                0      w/d hookups          carport   \n",
       "2                0      w/d in unit  attached garage   \n",
       "3                0      w/d in unit          carport   \n",
       "4                1  laundry on site              NaN   \n",
       "\n",
       "                                         description      lat     long state  \n",
       "0  Ridgeview by Vintage is where you will find al...  39.5483 -119.796    ca  \n",
       "1  Conveniently located in the middle town of Ren...  39.5026 -119.789    ca  \n",
       "2  2BD | 2BA | 1683SQFTDiscover exceptional servi...  39.6269 -119.708    ca  \n",
       "3  MOVE IN SPECIAL FREE WASHER/DRYER WITH 6 OR 12...  39.4477 -119.771    ca  \n",
       "4  Move In Today: Reno Low-Cost, Clean & Furnishe...  39.5357 -119.805    ca  "
      ]
     },
     "execution_count": 2,
     "metadata": {},
     "output_type": "execute_result"
    }
   ],
   "source": [
    "df=pd.read_csv('Capstone_2_normalised_data.csv')\n",
    "#df.head()\n",
    "df=df.drop(['id', 'url', 'region_url', 'image_url'], axis=1)\n",
    "df.head()"
   ]
  },
  {
   "cell_type": "code",
   "execution_count": 3,
   "metadata": {},
   "outputs": [
    {
     "data": {
      "text/html": [
       "<div>\n",
       "<style scoped>\n",
       "    .dataframe tbody tr th:only-of-type {\n",
       "        vertical-align: middle;\n",
       "    }\n",
       "\n",
       "    .dataframe tbody tr th {\n",
       "        vertical-align: top;\n",
       "    }\n",
       "\n",
       "    .dataframe thead th {\n",
       "        text-align: right;\n",
       "    }\n",
       "</style>\n",
       "<table border=\"1\" class=\"dataframe\">\n",
       "  <thead>\n",
       "    <tr style=\"text-align: right;\">\n",
       "      <th></th>\n",
       "      <th>region</th>\n",
       "      <th>price</th>\n",
       "      <th>type</th>\n",
       "      <th>sqfeet</th>\n",
       "      <th>beds</th>\n",
       "      <th>baths</th>\n",
       "      <th>cats_allowed</th>\n",
       "      <th>dogs_allowed</th>\n",
       "      <th>smoking_allowed</th>\n",
       "      <th>wheelchair_access</th>\n",
       "      <th>electric_vehicle_charge</th>\n",
       "      <th>comes_furnished</th>\n",
       "      <th>laundry_options</th>\n",
       "      <th>parking_options</th>\n",
       "      <th>description</th>\n",
       "      <th>lat</th>\n",
       "      <th>long</th>\n",
       "      <th>state</th>\n",
       "    </tr>\n",
       "  </thead>\n",
       "  <tbody>\n",
       "    <tr>\n",
       "      <th>0</th>\n",
       "      <td>reno / tahoe</td>\n",
       "      <td>1148</td>\n",
       "      <td>apartment</td>\n",
       "      <td>1078</td>\n",
       "      <td>3</td>\n",
       "      <td>2.0</td>\n",
       "      <td>1</td>\n",
       "      <td>1</td>\n",
       "      <td>0</td>\n",
       "      <td>0</td>\n",
       "      <td>0</td>\n",
       "      <td>0</td>\n",
       "      <td>w/d in unit</td>\n",
       "      <td>carport</td>\n",
       "      <td>Ridgeview by Vintage is where you will find al...</td>\n",
       "      <td>39.5483</td>\n",
       "      <td>-119.796</td>\n",
       "      <td>ca</td>\n",
       "    </tr>\n",
       "    <tr>\n",
       "      <th>1</th>\n",
       "      <td>reno / tahoe</td>\n",
       "      <td>1200</td>\n",
       "      <td>condo</td>\n",
       "      <td>1001</td>\n",
       "      <td>2</td>\n",
       "      <td>2.0</td>\n",
       "      <td>0</td>\n",
       "      <td>0</td>\n",
       "      <td>0</td>\n",
       "      <td>0</td>\n",
       "      <td>0</td>\n",
       "      <td>0</td>\n",
       "      <td>w/d hookups</td>\n",
       "      <td>carport</td>\n",
       "      <td>Conveniently located in the middle town of Ren...</td>\n",
       "      <td>39.5026</td>\n",
       "      <td>-119.789</td>\n",
       "      <td>ca</td>\n",
       "    </tr>\n",
       "    <tr>\n",
       "      <th>2</th>\n",
       "      <td>reno / tahoe</td>\n",
       "      <td>1813</td>\n",
       "      <td>apartment</td>\n",
       "      <td>1683</td>\n",
       "      <td>2</td>\n",
       "      <td>2.0</td>\n",
       "      <td>1</td>\n",
       "      <td>1</td>\n",
       "      <td>1</td>\n",
       "      <td>0</td>\n",
       "      <td>0</td>\n",
       "      <td>0</td>\n",
       "      <td>w/d in unit</td>\n",
       "      <td>attached garage</td>\n",
       "      <td>2BD | 2BA | 1683SQFTDiscover exceptional servi...</td>\n",
       "      <td>39.6269</td>\n",
       "      <td>-119.708</td>\n",
       "      <td>ca</td>\n",
       "    </tr>\n",
       "    <tr>\n",
       "      <th>3</th>\n",
       "      <td>reno / tahoe</td>\n",
       "      <td>1095</td>\n",
       "      <td>apartment</td>\n",
       "      <td>708</td>\n",
       "      <td>1</td>\n",
       "      <td>1.0</td>\n",
       "      <td>1</td>\n",
       "      <td>1</td>\n",
       "      <td>1</td>\n",
       "      <td>0</td>\n",
       "      <td>0</td>\n",
       "      <td>0</td>\n",
       "      <td>w/d in unit</td>\n",
       "      <td>carport</td>\n",
       "      <td>MOVE IN SPECIAL FREE WASHER/DRYER WITH 6 OR 12...</td>\n",
       "      <td>39.4477</td>\n",
       "      <td>-119.771</td>\n",
       "      <td>ca</td>\n",
       "    </tr>\n",
       "    <tr>\n",
       "      <th>4</th>\n",
       "      <td>reno / tahoe</td>\n",
       "      <td>289</td>\n",
       "      <td>apartment</td>\n",
       "      <td>250</td>\n",
       "      <td>0</td>\n",
       "      <td>1.0</td>\n",
       "      <td>1</td>\n",
       "      <td>1</td>\n",
       "      <td>1</td>\n",
       "      <td>1</td>\n",
       "      <td>0</td>\n",
       "      <td>1</td>\n",
       "      <td>laundry on site</td>\n",
       "      <td>NaN</td>\n",
       "      <td>Move In Today: Reno Low-Cost, Clean &amp; Furnishe...</td>\n",
       "      <td>39.5357</td>\n",
       "      <td>-119.805</td>\n",
       "      <td>ca</td>\n",
       "    </tr>\n",
       "  </tbody>\n",
       "</table>\n",
       "</div>"
      ],
      "text/plain": [
       "         region  price       type  sqfeet  beds  baths  cats_allowed  \\\n",
       "0  reno / tahoe   1148  apartment    1078     3    2.0             1   \n",
       "1  reno / tahoe   1200      condo    1001     2    2.0             0   \n",
       "2  reno / tahoe   1813  apartment    1683     2    2.0             1   \n",
       "3  reno / tahoe   1095  apartment     708     1    1.0             1   \n",
       "4  reno / tahoe    289  apartment     250     0    1.0             1   \n",
       "\n",
       "   dogs_allowed  smoking_allowed  wheelchair_access  electric_vehicle_charge  \\\n",
       "0             1                0                  0                        0   \n",
       "1             0                0                  0                        0   \n",
       "2             1                1                  0                        0   \n",
       "3             1                1                  0                        0   \n",
       "4             1                1                  1                        0   \n",
       "\n",
       "   comes_furnished  laundry_options  parking_options  \\\n",
       "0                0      w/d in unit          carport   \n",
       "1                0      w/d hookups          carport   \n",
       "2                0      w/d in unit  attached garage   \n",
       "3                0      w/d in unit          carport   \n",
       "4                1  laundry on site              NaN   \n",
       "\n",
       "                                         description      lat     long state  \n",
       "0  Ridgeview by Vintage is where you will find al...  39.5483 -119.796    ca  \n",
       "1  Conveniently located in the middle town of Ren...  39.5026 -119.789    ca  \n",
       "2  2BD | 2BA | 1683SQFTDiscover exceptional servi...  39.6269 -119.708    ca  \n",
       "3  MOVE IN SPECIAL FREE WASHER/DRYER WITH 6 OR 12...  39.4477 -119.771    ca  \n",
       "4  Move In Today: Reno Low-Cost, Clean & Furnishe...  39.5357 -119.805    ca  "
      ]
     },
     "execution_count": 3,
     "metadata": {},
     "output_type": "execute_result"
    }
   ],
   "source": [
    "df_ca=df[df.state=='ca']\n",
    "df_ca.head()"
   ]
  },
  {
   "cell_type": "code",
   "execution_count": 4,
   "metadata": {},
   "outputs": [
    {
     "data": {
      "text/html": [
       "<div>\n",
       "<style scoped>\n",
       "    .dataframe tbody tr th:only-of-type {\n",
       "        vertical-align: middle;\n",
       "    }\n",
       "\n",
       "    .dataframe tbody tr th {\n",
       "        vertical-align: top;\n",
       "    }\n",
       "\n",
       "    .dataframe thead th {\n",
       "        text-align: right;\n",
       "    }\n",
       "</style>\n",
       "<table border=\"1\" class=\"dataframe\">\n",
       "  <thead>\n",
       "    <tr style=\"text-align: right;\">\n",
       "      <th></th>\n",
       "      <th>region</th>\n",
       "      <th>price</th>\n",
       "      <th>type</th>\n",
       "      <th>sqfeet</th>\n",
       "      <th>beds</th>\n",
       "      <th>baths</th>\n",
       "      <th>cats_allowed</th>\n",
       "      <th>dogs_allowed</th>\n",
       "      <th>smoking_allowed</th>\n",
       "      <th>wheelchair_access</th>\n",
       "      <th>electric_vehicle_charge</th>\n",
       "      <th>comes_furnished</th>\n",
       "      <th>laundry_options</th>\n",
       "      <th>parking_options</th>\n",
       "      <th>description</th>\n",
       "      <th>lat</th>\n",
       "      <th>long</th>\n",
       "      <th>state</th>\n",
       "    </tr>\n",
       "  </thead>\n",
       "  <tbody>\n",
       "    <tr>\n",
       "      <th>856</th>\n",
       "      <td>ventura county</td>\n",
       "      <td>2000</td>\n",
       "      <td>apartment</td>\n",
       "      <td>850</td>\n",
       "      <td>2</td>\n",
       "      <td>1.5</td>\n",
       "      <td>1</td>\n",
       "      <td>1</td>\n",
       "      <td>1</td>\n",
       "      <td>0</td>\n",
       "      <td>0</td>\n",
       "      <td>0</td>\n",
       "      <td>laundry on site</td>\n",
       "      <td>carport</td>\n",
       "      <td>Villa Palazzo, managed by iasset management 75...</td>\n",
       "      <td>34.2244</td>\n",
       "      <td>-119.043</td>\n",
       "      <td>ca</td>\n",
       "    </tr>\n",
       "    <tr>\n",
       "      <th>6871</th>\n",
       "      <td>ventura county</td>\n",
       "      <td>1700</td>\n",
       "      <td>condo</td>\n",
       "      <td>724</td>\n",
       "      <td>1</td>\n",
       "      <td>1.0</td>\n",
       "      <td>1</td>\n",
       "      <td>1</td>\n",
       "      <td>0</td>\n",
       "      <td>0</td>\n",
       "      <td>0</td>\n",
       "      <td>0</td>\n",
       "      <td>w/d in unit</td>\n",
       "      <td>attached garage</td>\n",
       "      <td>Cute 1 Bedroom, 1 Bath unit on bottom floor. S...</td>\n",
       "      <td>34.2854</td>\n",
       "      <td>-118.761</td>\n",
       "      <td>ca</td>\n",
       "    </tr>\n",
       "  </tbody>\n",
       "</table>\n",
       "</div>"
      ],
      "text/plain": [
       "              region  price       type  sqfeet  beds  baths  cats_allowed  \\\n",
       "856   ventura county   2000  apartment     850     2    1.5             1   \n",
       "6871  ventura county   1700      condo     724     1    1.0             1   \n",
       "\n",
       "      dogs_allowed  smoking_allowed  wheelchair_access  \\\n",
       "856              1                1                  0   \n",
       "6871             1                0                  0   \n",
       "\n",
       "      electric_vehicle_charge  comes_furnished  laundry_options  \\\n",
       "856                         0                0  laundry on site   \n",
       "6871                        0                0      w/d in unit   \n",
       "\n",
       "      parking_options                                        description  \\\n",
       "856           carport  Villa Palazzo, managed by iasset management 75...   \n",
       "6871  attached garage  Cute 1 Bedroom, 1 Bath unit on bottom floor. S...   \n",
       "\n",
       "          lat     long state  \n",
       "856   34.2244 -119.043    ca  \n",
       "6871  34.2854 -118.761    ca  "
      ]
     },
     "execution_count": 4,
     "metadata": {},
     "output_type": "execute_result"
    }
   ],
   "source": [
    "df_ca1=df_ca[df_ca['region']=='ventura county']\n",
    "df_ca1.head(2)"
   ]
  },
  {
   "cell_type": "code",
   "execution_count": 5,
   "metadata": {},
   "outputs": [
    {
     "name": "stderr",
     "output_type": "stream",
     "text": [
      "C:\\Users\\npana\\anaconda3\\lib\\site-packages\\ipykernel_launcher.py:1: SettingWithCopyWarning: \n",
      "A value is trying to be set on a copy of a slice from a DataFrame.\n",
      "Try using .loc[row_indexer,col_indexer] = value instead\n",
      "\n",
      "See the caveats in the documentation: https://pandas.pydata.org/pandas-docs/stable/user_guide/indexing.html#returning-a-view-versus-a-copy\n",
      "  \"\"\"Entry point for launching an IPython kernel.\n"
     ]
    },
    {
     "data": {
      "text/html": [
       "<div>\n",
       "<style scoped>\n",
       "    .dataframe tbody tr th:only-of-type {\n",
       "        vertical-align: middle;\n",
       "    }\n",
       "\n",
       "    .dataframe tbody tr th {\n",
       "        vertical-align: top;\n",
       "    }\n",
       "\n",
       "    .dataframe thead th {\n",
       "        text-align: right;\n",
       "    }\n",
       "</style>\n",
       "<table border=\"1\" class=\"dataframe\">\n",
       "  <thead>\n",
       "    <tr style=\"text-align: right;\">\n",
       "      <th></th>\n",
       "      <th>region</th>\n",
       "      <th>price</th>\n",
       "      <th>type</th>\n",
       "      <th>sqfeet</th>\n",
       "      <th>beds</th>\n",
       "      <th>baths</th>\n",
       "      <th>cats_allowed</th>\n",
       "      <th>dogs_allowed</th>\n",
       "      <th>smoking_allowed</th>\n",
       "      <th>wheelchair_access</th>\n",
       "      <th>electric_vehicle_charge</th>\n",
       "      <th>comes_furnished</th>\n",
       "      <th>laundry_options</th>\n",
       "      <th>parking_options</th>\n",
       "      <th>description</th>\n",
       "      <th>lat</th>\n",
       "      <th>long</th>\n",
       "      <th>state</th>\n",
       "      <th>description_count</th>\n",
       "    </tr>\n",
       "  </thead>\n",
       "  <tbody>\n",
       "    <tr>\n",
       "      <th>856</th>\n",
       "      <td>ventura county</td>\n",
       "      <td>2000</td>\n",
       "      <td>apartment</td>\n",
       "      <td>850</td>\n",
       "      <td>2</td>\n",
       "      <td>1.5</td>\n",
       "      <td>1</td>\n",
       "      <td>1</td>\n",
       "      <td>1</td>\n",
       "      <td>0</td>\n",
       "      <td>0</td>\n",
       "      <td>0</td>\n",
       "      <td>laundry on site</td>\n",
       "      <td>carport</td>\n",
       "      <td>Villa Palazzo, managed by iasset management 75...</td>\n",
       "      <td>34.2244</td>\n",
       "      <td>-119.043</td>\n",
       "      <td>ca</td>\n",
       "      <td>53</td>\n",
       "    </tr>\n",
       "    <tr>\n",
       "      <th>6871</th>\n",
       "      <td>ventura county</td>\n",
       "      <td>1700</td>\n",
       "      <td>condo</td>\n",
       "      <td>724</td>\n",
       "      <td>1</td>\n",
       "      <td>1.0</td>\n",
       "      <td>1</td>\n",
       "      <td>1</td>\n",
       "      <td>0</td>\n",
       "      <td>0</td>\n",
       "      <td>0</td>\n",
       "      <td>0</td>\n",
       "      <td>w/d in unit</td>\n",
       "      <td>attached garage</td>\n",
       "      <td>Cute 1 Bedroom, 1 Bath unit on bottom floor. S...</td>\n",
       "      <td>34.2854</td>\n",
       "      <td>-118.761</td>\n",
       "      <td>ca</td>\n",
       "      <td>73</td>\n",
       "    </tr>\n",
       "  </tbody>\n",
       "</table>\n",
       "</div>"
      ],
      "text/plain": [
       "              region  price       type  sqfeet  beds  baths  cats_allowed  \\\n",
       "856   ventura county   2000  apartment     850     2    1.5             1   \n",
       "6871  ventura county   1700      condo     724     1    1.0             1   \n",
       "\n",
       "      dogs_allowed  smoking_allowed  wheelchair_access  \\\n",
       "856              1                1                  0   \n",
       "6871             1                0                  0   \n",
       "\n",
       "      electric_vehicle_charge  comes_furnished  laundry_options  \\\n",
       "856                         0                0  laundry on site   \n",
       "6871                        0                0      w/d in unit   \n",
       "\n",
       "      parking_options                                        description  \\\n",
       "856           carport  Villa Palazzo, managed by iasset management 75...   \n",
       "6871  attached garage  Cute 1 Bedroom, 1 Bath unit on bottom floor. S...   \n",
       "\n",
       "          lat     long state  description_count  \n",
       "856   34.2244 -119.043    ca                 53  \n",
       "6871  34.2854 -118.761    ca                 73  "
      ]
     },
     "execution_count": 5,
     "metadata": {},
     "output_type": "execute_result"
    }
   ],
   "source": [
    "df_ca1['description_count'] = df_ca1.description.apply(lambda x: len(x.split()))\n",
    "df_ca1.head(2)"
   ]
  },
  {
   "cell_type": "markdown",
   "metadata": {},
   "source": [
    "## Data Cleaning"
   ]
  },
  {
   "cell_type": "code",
   "execution_count": 6,
   "metadata": {},
   "outputs": [
    {
     "data": {
      "text/plain": [
       "region                       0\n",
       "price                        0\n",
       "type                         0\n",
       "sqfeet                       0\n",
       "beds                         0\n",
       "baths                        0\n",
       "cats_allowed                 0\n",
       "dogs_allowed                 0\n",
       "smoking_allowed              0\n",
       "wheelchair_access            0\n",
       "electric_vehicle_charge      0\n",
       "comes_furnished              0\n",
       "laundry_options            581\n",
       "parking_options            809\n",
       "description                  0\n",
       "lat                          1\n",
       "long                         1\n",
       "state                        0\n",
       "description_count            0\n",
       "dtype: int64"
      ]
     },
     "execution_count": 6,
     "metadata": {},
     "output_type": "execute_result"
    }
   ],
   "source": [
    "df_ca1.isnull().sum()"
   ]
  },
  {
   "cell_type": "code",
   "execution_count": 7,
   "metadata": {},
   "outputs": [
    {
     "data": {
      "text/plain": [
       "type           laundry_options   \n",
       "apartment      w/d in unit           1222\n",
       "               laundry on site        456\n",
       "               laundry in bldg         22\n",
       "               w/d hookups             11\n",
       "               no laundry on site       8\n",
       "condo          w/d in unit             29\n",
       "               w/d hookups             13\n",
       "               laundry in bldg          4\n",
       "               laundry on site          4\n",
       "cottage/cabin  no laundry on site       1\n",
       "               w/d hookups              1\n",
       "               w/d in unit              1\n",
       "duplex         w/d hookups              5\n",
       "               w/d in unit              4\n",
       "               laundry on site          3\n",
       "               laundry in bldg          2\n",
       "               no laundry on site       2\n",
       "house          w/d in unit             57\n",
       "               w/d hookups             52\n",
       "               laundry on site          8\n",
       "               laundry in bldg          5\n",
       "               no laundry on site       1\n",
       "in-law         no laundry on site       2\n",
       "               w/d in unit              2\n",
       "               laundry on site          1\n",
       "townhouse      w/d hookups             35\n",
       "               w/d in unit             31\n",
       "               laundry in bldg         10\n",
       "               laundry on site          5\n",
       "               no laundry on site       1\n",
       "Name: laundry_options, dtype: int64"
      ]
     },
     "execution_count": 7,
     "metadata": {},
     "output_type": "execute_result"
    }
   ],
   "source": [
    "df_ca1.groupby('type')['laundry_options'].value_counts()"
   ]
  },
  {
   "cell_type": "code",
   "execution_count": 8,
   "metadata": {},
   "outputs": [
    {
     "data": {
      "text/plain": [
       "w/d in unit           1346\n",
       "NaN                    581\n",
       "laundry on site        477\n",
       "w/d hookups            117\n",
       "laundry in bldg         43\n",
       "no laundry on site      15\n",
       "Name: laundry_options, dtype: int64"
      ]
     },
     "execution_count": 8,
     "metadata": {},
     "output_type": "execute_result"
    }
   ],
   "source": [
    "df_ca1['laundry_options'].value_counts(dropna=False)"
   ]
  },
  {
   "cell_type": "code",
   "execution_count": 9,
   "metadata": {},
   "outputs": [
    {
     "data": {
      "text/plain": [
       "856       laundry on site\n",
       "6871          w/d in unit\n",
       "6879      laundry on site\n",
       "7184          w/d in unit\n",
       "7201          w/d in unit\n",
       "               ...       \n",
       "14696         w/d in unit\n",
       "14697     laundry on site\n",
       "14698         w/d in unit\n",
       "379409        w/d in unit\n",
       "379475        w/d in unit\n",
       "Name: laundry_options, Length: 2579, dtype: object"
      ]
     },
     "execution_count": 9,
     "metadata": {},
     "output_type": "execute_result"
    }
   ],
   "source": [
    "df_ca1['laundry_options'].fillna('w/d in unit')"
   ]
  },
  {
   "cell_type": "code",
   "execution_count": 10,
   "metadata": {},
   "outputs": [
    {
     "data": {
      "text/plain": [
       "type           parking_options   \n",
       "apartment      carport               1099\n",
       "               attached garage        232\n",
       "               detached garage         84\n",
       "               off-street parking      68\n",
       "               street parking           7\n",
       "               no parking               4\n",
       "condo          attached garage         23\n",
       "               detached garage         16\n",
       "               carport                  9\n",
       "               off-street parking       1\n",
       "cottage/cabin  off-street parking       2\n",
       "               carport                  1\n",
       "duplex         attached garage          5\n",
       "               street parking           5\n",
       "               off-street parking       3\n",
       "               detached garage          2\n",
       "               no parking               1\n",
       "house          attached garage         91\n",
       "               off-street parking      19\n",
       "               detached garage          6\n",
       "               carport                  3\n",
       "               street parking           3\n",
       "in-law         off-street parking       3\n",
       "               street parking           1\n",
       "townhouse      attached garage         48\n",
       "               carport                 30\n",
       "               detached garage          2\n",
       "               off-street parking       1\n",
       "               street parking           1\n",
       "Name: parking_options, dtype: int64"
      ]
     },
     "execution_count": 10,
     "metadata": {},
     "output_type": "execute_result"
    }
   ],
   "source": [
    "df_ca1.groupby('type')['parking_options'].value_counts()"
   ]
  },
  {
   "cell_type": "code",
   "execution_count": 11,
   "metadata": {},
   "outputs": [
    {
     "data": {
      "text/plain": [
       "carport               1142\n",
       "NaN                    809\n",
       "attached garage        399\n",
       "detached garage        110\n",
       "off-street parking      97\n",
       "street parking          17\n",
       "no parking               5\n",
       "Name: parking_options, dtype: int64"
      ]
     },
     "execution_count": 11,
     "metadata": {},
     "output_type": "execute_result"
    }
   ],
   "source": [
    "df_ca1['parking_options'].value_counts(dropna=False)"
   ]
  },
  {
   "cell_type": "code",
   "execution_count": 12,
   "metadata": {},
   "outputs": [
    {
     "data": {
      "text/plain": [
       "856               carport\n",
       "6871      attached garage\n",
       "6879              carport\n",
       "7184              carport\n",
       "7201      attached garage\n",
       "               ...       \n",
       "14696     attached garage\n",
       "14697             carport\n",
       "14698             carport\n",
       "379409            carport\n",
       "379475            carport\n",
       "Name: parking_options, Length: 2579, dtype: object"
      ]
     },
     "execution_count": 12,
     "metadata": {},
     "output_type": "execute_result"
    }
   ],
   "source": [
    "df_ca1['parking_options'].fillna('carport')"
   ]
  },
  {
   "cell_type": "code",
   "execution_count": 13,
   "metadata": {},
   "outputs": [
    {
     "data": {
      "text/plain": [
       "(2579, 19)"
      ]
     },
     "execution_count": 13,
     "metadata": {},
     "output_type": "execute_result"
    }
   ],
   "source": [
    "df_ca1.shape"
   ]
  },
  {
   "cell_type": "markdown",
   "metadata": {},
   "source": [
    "## Removing Oultliers"
   ]
  },
  {
   "cell_type": "code",
   "execution_count": 14,
   "metadata": {},
   "outputs": [
    {
     "name": "stdout",
     "output_type": "stream",
     "text": [
      "price                      660.00000\n",
      "sqfeet                     365.00000\n",
      "beds                         1.00000\n",
      "baths                        1.00000\n",
      "cats_allowed                 0.00000\n",
      "dogs_allowed                 0.00000\n",
      "smoking_allowed              1.00000\n",
      "wheelchair_access            0.00000\n",
      "electric_vehicle_charge      0.00000\n",
      "comes_furnished              0.00000\n",
      "lat                          0.08045\n",
      "long                         0.34900\n",
      "description_count          150.00000\n",
      "dtype: float64\n"
     ]
    }
   ],
   "source": [
    "Q1 = df_ca1.quantile(0.25)\n",
    "Q3 = df_ca1.quantile(0.75)\n",
    "IQR = Q3 - Q1\n",
    "print(IQR)"
   ]
  },
  {
   "cell_type": "code",
   "execution_count": 15,
   "metadata": {},
   "outputs": [
    {
     "data": {
      "text/plain": [
       "(1678, 19)"
      ]
     },
     "execution_count": 15,
     "metadata": {},
     "output_type": "execute_result"
    }
   ],
   "source": [
    "outliers=(df_ca1 < (Q1 - 1.5 * IQR)) |(df_ca1 > (Q3 + 1.5 * IQR)) \n",
    "df_valid= df_ca1[~((df_ca1 < (Q1 - 1.5 * IQR)) |(df_ca1 > (Q3 + 1.5 * IQR))).any(axis=1)]\n",
    "df_valid.shape"
   ]
  },
  {
   "cell_type": "code",
   "execution_count": 16,
   "metadata": {},
   "outputs": [
    {
     "data": {
      "text/html": [
       "<div>\n",
       "<style scoped>\n",
       "    .dataframe tbody tr th:only-of-type {\n",
       "        vertical-align: middle;\n",
       "    }\n",
       "\n",
       "    .dataframe tbody tr th {\n",
       "        vertical-align: top;\n",
       "    }\n",
       "\n",
       "    .dataframe thead th {\n",
       "        text-align: right;\n",
       "    }\n",
       "</style>\n",
       "<table border=\"1\" class=\"dataframe\">\n",
       "  <thead>\n",
       "    <tr style=\"text-align: right;\">\n",
       "      <th></th>\n",
       "      <th>region</th>\n",
       "      <th>price</th>\n",
       "      <th>type</th>\n",
       "      <th>sqfeet</th>\n",
       "      <th>beds</th>\n",
       "      <th>baths</th>\n",
       "      <th>cats_allowed</th>\n",
       "      <th>dogs_allowed</th>\n",
       "      <th>smoking_allowed</th>\n",
       "      <th>wheelchair_access</th>\n",
       "      <th>electric_vehicle_charge</th>\n",
       "      <th>comes_furnished</th>\n",
       "      <th>laundry_options</th>\n",
       "      <th>parking_options</th>\n",
       "      <th>description</th>\n",
       "      <th>lat</th>\n",
       "      <th>long</th>\n",
       "      <th>state</th>\n",
       "      <th>description_count</th>\n",
       "    </tr>\n",
       "  </thead>\n",
       "  <tbody>\n",
       "    <tr>\n",
       "      <th>856</th>\n",
       "      <td>ventura county</td>\n",
       "      <td>2000</td>\n",
       "      <td>apartment</td>\n",
       "      <td>850</td>\n",
       "      <td>2</td>\n",
       "      <td>1.5</td>\n",
       "      <td>1</td>\n",
       "      <td>1</td>\n",
       "      <td>1</td>\n",
       "      <td>0</td>\n",
       "      <td>0</td>\n",
       "      <td>0</td>\n",
       "      <td>laundry on site</td>\n",
       "      <td>carport</td>\n",
       "      <td>Villa Palazzo, managed by iasset management 75...</td>\n",
       "      <td>34.2244</td>\n",
       "      <td>-119.043</td>\n",
       "      <td>ca</td>\n",
       "      <td>53</td>\n",
       "    </tr>\n",
       "    <tr>\n",
       "      <th>6871</th>\n",
       "      <td>ventura county</td>\n",
       "      <td>1700</td>\n",
       "      <td>condo</td>\n",
       "      <td>724</td>\n",
       "      <td>1</td>\n",
       "      <td>1.0</td>\n",
       "      <td>1</td>\n",
       "      <td>1</td>\n",
       "      <td>0</td>\n",
       "      <td>0</td>\n",
       "      <td>0</td>\n",
       "      <td>0</td>\n",
       "      <td>w/d in unit</td>\n",
       "      <td>attached garage</td>\n",
       "      <td>Cute 1 Bedroom, 1 Bath unit on bottom floor. S...</td>\n",
       "      <td>34.2854</td>\n",
       "      <td>-118.761</td>\n",
       "      <td>ca</td>\n",
       "      <td>73</td>\n",
       "    </tr>\n",
       "  </tbody>\n",
       "</table>\n",
       "</div>"
      ],
      "text/plain": [
       "              region  price       type  sqfeet  beds  baths  cats_allowed  \\\n",
       "856   ventura county   2000  apartment     850     2    1.5             1   \n",
       "6871  ventura county   1700      condo     724     1    1.0             1   \n",
       "\n",
       "      dogs_allowed  smoking_allowed  wheelchair_access  \\\n",
       "856              1                1                  0   \n",
       "6871             1                0                  0   \n",
       "\n",
       "      electric_vehicle_charge  comes_furnished  laundry_options  \\\n",
       "856                         0                0  laundry on site   \n",
       "6871                        0                0      w/d in unit   \n",
       "\n",
       "      parking_options                                        description  \\\n",
       "856           carport  Villa Palazzo, managed by iasset management 75...   \n",
       "6871  attached garage  Cute 1 Bedroom, 1 Bath unit on bottom floor. S...   \n",
       "\n",
       "          lat     long state  description_count  \n",
       "856   34.2244 -119.043    ca                 53  \n",
       "6871  34.2854 -118.761    ca                 73  "
      ]
     },
     "execution_count": 16,
     "metadata": {},
     "output_type": "execute_result"
    }
   ],
   "source": [
    "df_valid.head(2)"
   ]
  },
  {
   "cell_type": "code",
   "execution_count": 17,
   "metadata": {},
   "outputs": [],
   "source": [
    "df_valid.to_excel('df_valid.xlsx')"
   ]
  },
  {
   "cell_type": "markdown",
   "metadata": {},
   "source": [
    "## Data Normalization"
   ]
  },
  {
   "cell_type": "code",
   "execution_count": 18,
   "metadata": {},
   "outputs": [
    {
     "data": {
      "text/html": [
       "<div>\n",
       "<style scoped>\n",
       "    .dataframe tbody tr th:only-of-type {\n",
       "        vertical-align: middle;\n",
       "    }\n",
       "\n",
       "    .dataframe tbody tr th {\n",
       "        vertical-align: top;\n",
       "    }\n",
       "\n",
       "    .dataframe thead th {\n",
       "        text-align: right;\n",
       "    }\n",
       "</style>\n",
       "<table border=\"1\" class=\"dataframe\">\n",
       "  <thead>\n",
       "    <tr style=\"text-align: right;\">\n",
       "      <th></th>\n",
       "      <th>price</th>\n",
       "      <th>sqfeet</th>\n",
       "      <th>description_count</th>\n",
       "    </tr>\n",
       "  </thead>\n",
       "  <tbody>\n",
       "    <tr>\n",
       "      <th>856</th>\n",
       "      <td>0.313253</td>\n",
       "      <td>0.314465</td>\n",
       "      <td>0.091270</td>\n",
       "    </tr>\n",
       "    <tr>\n",
       "      <th>6871</th>\n",
       "      <td>0.168675</td>\n",
       "      <td>0.215409</td>\n",
       "      <td>0.130952</td>\n",
       "    </tr>\n",
       "  </tbody>\n",
       "</table>\n",
       "</div>"
      ],
      "text/plain": [
       "         price    sqfeet  description_count\n",
       "856   0.313253  0.314465           0.091270\n",
       "6871  0.168675  0.215409           0.130952"
      ]
     },
     "execution_count": 18,
     "metadata": {},
     "output_type": "execute_result"
    }
   ],
   "source": [
    "\n",
    "df_ca_V=df_valid[df_valid.region.isin(['ventura county'])]\n",
    "X_data=df_ca_V[['price','sqfeet', 'description_count']]\n",
    "X_data2=X_data.apply(lambda x: (x - x.min(axis=0)) / ((x.max(axis=0))-(x.min(axis=0))))\n",
    "X_data2.head(2)"
   ]
  },
  {
   "cell_type": "code",
   "execution_count": 19,
   "metadata": {},
   "outputs": [
    {
     "data": {
      "text/plain": [
       "(1678, 3)"
      ]
     },
     "execution_count": 19,
     "metadata": {},
     "output_type": "execute_result"
    }
   ],
   "source": [
    "X_data2.shape"
   ]
  },
  {
   "cell_type": "code",
   "execution_count": 20,
   "metadata": {},
   "outputs": [],
   "source": [
    "df_filt=df_valid.drop([ 'sqfeet','description_count', 'price' ], axis=1)"
   ]
  },
  {
   "cell_type": "code",
   "execution_count": 21,
   "metadata": {},
   "outputs": [
    {
     "data": {
      "text/html": [
       "<div>\n",
       "<style scoped>\n",
       "    .dataframe tbody tr th:only-of-type {\n",
       "        vertical-align: middle;\n",
       "    }\n",
       "\n",
       "    .dataframe tbody tr th {\n",
       "        vertical-align: top;\n",
       "    }\n",
       "\n",
       "    .dataframe thead th {\n",
       "        text-align: right;\n",
       "    }\n",
       "</style>\n",
       "<table border=\"1\" class=\"dataframe\">\n",
       "  <thead>\n",
       "    <tr style=\"text-align: right;\">\n",
       "      <th></th>\n",
       "      <th>region</th>\n",
       "      <th>type</th>\n",
       "      <th>beds</th>\n",
       "      <th>baths</th>\n",
       "      <th>cats_allowed</th>\n",
       "      <th>dogs_allowed</th>\n",
       "      <th>smoking_allowed</th>\n",
       "      <th>wheelchair_access</th>\n",
       "      <th>electric_vehicle_charge</th>\n",
       "      <th>comes_furnished</th>\n",
       "      <th>laundry_options</th>\n",
       "      <th>parking_options</th>\n",
       "      <th>description</th>\n",
       "      <th>lat</th>\n",
       "      <th>long</th>\n",
       "      <th>state</th>\n",
       "      <th>price</th>\n",
       "      <th>sqfeet</th>\n",
       "      <th>description_count</th>\n",
       "    </tr>\n",
       "  </thead>\n",
       "  <tbody>\n",
       "    <tr>\n",
       "      <th>856</th>\n",
       "      <td>ventura county</td>\n",
       "      <td>apartment</td>\n",
       "      <td>2</td>\n",
       "      <td>1.5</td>\n",
       "      <td>1</td>\n",
       "      <td>1</td>\n",
       "      <td>1</td>\n",
       "      <td>0</td>\n",
       "      <td>0</td>\n",
       "      <td>0</td>\n",
       "      <td>laundry on site</td>\n",
       "      <td>carport</td>\n",
       "      <td>Villa Palazzo, managed by iasset management 75...</td>\n",
       "      <td>34.2244</td>\n",
       "      <td>-119.043</td>\n",
       "      <td>ca</td>\n",
       "      <td>0.313253</td>\n",
       "      <td>0.314465</td>\n",
       "      <td>0.091270</td>\n",
       "    </tr>\n",
       "    <tr>\n",
       "      <th>6871</th>\n",
       "      <td>ventura county</td>\n",
       "      <td>condo</td>\n",
       "      <td>1</td>\n",
       "      <td>1.0</td>\n",
       "      <td>1</td>\n",
       "      <td>1</td>\n",
       "      <td>0</td>\n",
       "      <td>0</td>\n",
       "      <td>0</td>\n",
       "      <td>0</td>\n",
       "      <td>w/d in unit</td>\n",
       "      <td>attached garage</td>\n",
       "      <td>Cute 1 Bedroom, 1 Bath unit on bottom floor. S...</td>\n",
       "      <td>34.2854</td>\n",
       "      <td>-118.761</td>\n",
       "      <td>ca</td>\n",
       "      <td>0.168675</td>\n",
       "      <td>0.215409</td>\n",
       "      <td>0.130952</td>\n",
       "    </tr>\n",
       "  </tbody>\n",
       "</table>\n",
       "</div>"
      ],
      "text/plain": [
       "              region       type  beds  baths  cats_allowed  dogs_allowed  \\\n",
       "856   ventura county  apartment     2    1.5             1             1   \n",
       "6871  ventura county      condo     1    1.0             1             1   \n",
       "\n",
       "      smoking_allowed  wheelchair_access  electric_vehicle_charge  \\\n",
       "856                 1                  0                        0   \n",
       "6871                0                  0                        0   \n",
       "\n",
       "      comes_furnished  laundry_options  parking_options  \\\n",
       "856                 0  laundry on site          carport   \n",
       "6871                0      w/d in unit  attached garage   \n",
       "\n",
       "                                            description      lat     long  \\\n",
       "856   Villa Palazzo, managed by iasset management 75...  34.2244 -119.043   \n",
       "6871  Cute 1 Bedroom, 1 Bath unit on bottom floor. S...  34.2854 -118.761   \n",
       "\n",
       "     state     price    sqfeet  description_count  \n",
       "856     ca  0.313253  0.314465           0.091270  \n",
       "6871    ca  0.168675  0.215409           0.130952  "
      ]
     },
     "execution_count": 21,
     "metadata": {},
     "output_type": "execute_result"
    }
   ],
   "source": [
    "df_normalised=pd.concat([df_filt, X_data2], axis=1)\n",
    "df_normalised.head(2)"
   ]
  },
  {
   "cell_type": "code",
   "execution_count": 22,
   "metadata": {},
   "outputs": [
    {
     "data": {
      "text/plain": [
       "(1678, 19)"
      ]
     },
     "execution_count": 22,
     "metadata": {},
     "output_type": "execute_result"
    }
   ],
   "source": [
    "df_normalised.shape"
   ]
  },
  {
   "cell_type": "code",
   "execution_count": 23,
   "metadata": {},
   "outputs": [
    {
     "data": {
      "text/html": [
       "<div>\n",
       "<style scoped>\n",
       "    .dataframe tbody tr th:only-of-type {\n",
       "        vertical-align: middle;\n",
       "    }\n",
       "\n",
       "    .dataframe tbody tr th {\n",
       "        vertical-align: top;\n",
       "    }\n",
       "\n",
       "    .dataframe thead th {\n",
       "        text-align: right;\n",
       "    }\n",
       "</style>\n",
       "<table border=\"1\" class=\"dataframe\">\n",
       "  <thead>\n",
       "    <tr style=\"text-align: right;\">\n",
       "      <th></th>\n",
       "      <th>beds</th>\n",
       "      <th>baths</th>\n",
       "      <th>cats_allowed</th>\n",
       "      <th>dogs_allowed</th>\n",
       "      <th>smoking_allowed</th>\n",
       "      <th>wheelchair_access</th>\n",
       "      <th>electric_vehicle_charge</th>\n",
       "      <th>comes_furnished</th>\n",
       "      <th>lat</th>\n",
       "      <th>long</th>\n",
       "      <th>price</th>\n",
       "      <th>sqfeet</th>\n",
       "      <th>description_count</th>\n",
       "    </tr>\n",
       "  </thead>\n",
       "  <tbody>\n",
       "    <tr>\n",
       "      <th>count</th>\n",
       "      <td>1678.000000</td>\n",
       "      <td>1678.000000</td>\n",
       "      <td>1678.0</td>\n",
       "      <td>1678.0</td>\n",
       "      <td>1678.000000</td>\n",
       "      <td>1678.0</td>\n",
       "      <td>1678.0</td>\n",
       "      <td>1678.0</td>\n",
       "      <td>1678.000000</td>\n",
       "      <td>1678.000000</td>\n",
       "      <td>1678.000000</td>\n",
       "      <td>1678.000000</td>\n",
       "      <td>1678.000000</td>\n",
       "    </tr>\n",
       "    <tr>\n",
       "      <th>mean</th>\n",
       "      <td>1.864720</td>\n",
       "      <td>1.591180</td>\n",
       "      <td>1.0</td>\n",
       "      <td>1.0</td>\n",
       "      <td>0.805125</td>\n",
       "      <td>0.0</td>\n",
       "      <td>0.0</td>\n",
       "      <td>0.0</td>\n",
       "      <td>34.225308</td>\n",
       "      <td>-118.989707</td>\n",
       "      <td>0.431857</td>\n",
       "      <td>0.414531</td>\n",
       "      <td>0.477022</td>\n",
       "    </tr>\n",
       "    <tr>\n",
       "      <th>std</th>\n",
       "      <td>0.686479</td>\n",
       "      <td>0.509919</td>\n",
       "      <td>0.0</td>\n",
       "      <td>0.0</td>\n",
       "      <td>0.396222</td>\n",
       "      <td>0.0</td>\n",
       "      <td>0.0</td>\n",
       "      <td>0.0</td>\n",
       "      <td>0.039071</td>\n",
       "      <td>0.181989</td>\n",
       "      <td>0.173532</td>\n",
       "      <td>0.179441</td>\n",
       "      <td>0.192560</td>\n",
       "    </tr>\n",
       "    <tr>\n",
       "      <th>min</th>\n",
       "      <td>0.000000</td>\n",
       "      <td>0.000000</td>\n",
       "      <td>1.0</td>\n",
       "      <td>1.0</td>\n",
       "      <td>0.000000</td>\n",
       "      <td>0.0</td>\n",
       "      <td>0.0</td>\n",
       "      <td>0.0</td>\n",
       "      <td>34.122700</td>\n",
       "      <td>-119.358000</td>\n",
       "      <td>0.000000</td>\n",
       "      <td>0.000000</td>\n",
       "      <td>0.000000</td>\n",
       "    </tr>\n",
       "    <tr>\n",
       "      <th>25%</th>\n",
       "      <td>1.000000</td>\n",
       "      <td>1.000000</td>\n",
       "      <td>1.0</td>\n",
       "      <td>1.0</td>\n",
       "      <td>1.000000</td>\n",
       "      <td>0.0</td>\n",
       "      <td>0.0</td>\n",
       "      <td>0.0</td>\n",
       "      <td>34.209800</td>\n",
       "      <td>-119.174000</td>\n",
       "      <td>0.303614</td>\n",
       "      <td>0.289308</td>\n",
       "      <td>0.325893</td>\n",
       "    </tr>\n",
       "    <tr>\n",
       "      <th>50%</th>\n",
       "      <td>2.000000</td>\n",
       "      <td>2.000000</td>\n",
       "      <td>1.0</td>\n",
       "      <td>1.0</td>\n",
       "      <td>1.000000</td>\n",
       "      <td>0.0</td>\n",
       "      <td>0.0</td>\n",
       "      <td>0.0</td>\n",
       "      <td>34.231300</td>\n",
       "      <td>-119.046000</td>\n",
       "      <td>0.407229</td>\n",
       "      <td>0.412736</td>\n",
       "      <td>0.464286</td>\n",
       "    </tr>\n",
       "    <tr>\n",
       "      <th>75%</th>\n",
       "      <td>2.000000</td>\n",
       "      <td>2.000000</td>\n",
       "      <td>1.0</td>\n",
       "      <td>1.0</td>\n",
       "      <td>1.000000</td>\n",
       "      <td>0.0</td>\n",
       "      <td>0.0</td>\n",
       "      <td>0.0</td>\n",
       "      <td>34.262800</td>\n",
       "      <td>-118.826000</td>\n",
       "      <td>0.546988</td>\n",
       "      <td>0.498428</td>\n",
       "      <td>0.638889</td>\n",
       "    </tr>\n",
       "    <tr>\n",
       "      <th>max</th>\n",
       "      <td>3.000000</td>\n",
       "      <td>3.000000</td>\n",
       "      <td>1.0</td>\n",
       "      <td>1.0</td>\n",
       "      <td>1.000000</td>\n",
       "      <td>0.0</td>\n",
       "      <td>0.0</td>\n",
       "      <td>0.0</td>\n",
       "      <td>34.354700</td>\n",
       "      <td>-118.432000</td>\n",
       "      <td>1.000000</td>\n",
       "      <td>1.000000</td>\n",
       "      <td>1.000000</td>\n",
       "    </tr>\n",
       "  </tbody>\n",
       "</table>\n",
       "</div>"
      ],
      "text/plain": [
       "              beds        baths  cats_allowed  dogs_allowed  smoking_allowed  \\\n",
       "count  1678.000000  1678.000000        1678.0        1678.0      1678.000000   \n",
       "mean      1.864720     1.591180           1.0           1.0         0.805125   \n",
       "std       0.686479     0.509919           0.0           0.0         0.396222   \n",
       "min       0.000000     0.000000           1.0           1.0         0.000000   \n",
       "25%       1.000000     1.000000           1.0           1.0         1.000000   \n",
       "50%       2.000000     2.000000           1.0           1.0         1.000000   \n",
       "75%       2.000000     2.000000           1.0           1.0         1.000000   \n",
       "max       3.000000     3.000000           1.0           1.0         1.000000   \n",
       "\n",
       "       wheelchair_access  electric_vehicle_charge  comes_furnished  \\\n",
       "count             1678.0                   1678.0           1678.0   \n",
       "mean                 0.0                      0.0              0.0   \n",
       "std                  0.0                      0.0              0.0   \n",
       "min                  0.0                      0.0              0.0   \n",
       "25%                  0.0                      0.0              0.0   \n",
       "50%                  0.0                      0.0              0.0   \n",
       "75%                  0.0                      0.0              0.0   \n",
       "max                  0.0                      0.0              0.0   \n",
       "\n",
       "               lat         long        price       sqfeet  description_count  \n",
       "count  1678.000000  1678.000000  1678.000000  1678.000000        1678.000000  \n",
       "mean     34.225308  -118.989707     0.431857     0.414531           0.477022  \n",
       "std       0.039071     0.181989     0.173532     0.179441           0.192560  \n",
       "min      34.122700  -119.358000     0.000000     0.000000           0.000000  \n",
       "25%      34.209800  -119.174000     0.303614     0.289308           0.325893  \n",
       "50%      34.231300  -119.046000     0.407229     0.412736           0.464286  \n",
       "75%      34.262800  -118.826000     0.546988     0.498428           0.638889  \n",
       "max      34.354700  -118.432000     1.000000     1.000000           1.000000  "
      ]
     },
     "execution_count": 23,
     "metadata": {},
     "output_type": "execute_result"
    }
   ],
   "source": [
    "df_normalised.describe()"
   ]
  },
  {
   "cell_type": "markdown",
   "metadata": {},
   "source": [
    "## Insights"
   ]
  },
  {
   "cell_type": "code",
   "execution_count": 24,
   "metadata": {},
   "outputs": [
    {
     "data": {
      "text/html": [
       "<div>\n",
       "<style scoped>\n",
       "    .dataframe tbody tr th:only-of-type {\n",
       "        vertical-align: middle;\n",
       "    }\n",
       "\n",
       "    .dataframe tbody tr th {\n",
       "        vertical-align: top;\n",
       "    }\n",
       "\n",
       "    .dataframe thead th {\n",
       "        text-align: right;\n",
       "    }\n",
       "</style>\n",
       "<table border=\"1\" class=\"dataframe\">\n",
       "  <thead>\n",
       "    <tr style=\"text-align: right;\">\n",
       "      <th></th>\n",
       "      <th>price</th>\n",
       "      <th>sqfeet</th>\n",
       "      <th>beds</th>\n",
       "      <th>baths</th>\n",
       "      <th>description_count</th>\n",
       "    </tr>\n",
       "  </thead>\n",
       "  <tbody>\n",
       "    <tr>\n",
       "      <th>856</th>\n",
       "      <td>0.313253</td>\n",
       "      <td>0.314465</td>\n",
       "      <td>2</td>\n",
       "      <td>1.5</td>\n",
       "      <td>0.091270</td>\n",
       "    </tr>\n",
       "    <tr>\n",
       "      <th>6871</th>\n",
       "      <td>0.168675</td>\n",
       "      <td>0.215409</td>\n",
       "      <td>1</td>\n",
       "      <td>1.0</td>\n",
       "      <td>0.130952</td>\n",
       "    </tr>\n",
       "    <tr>\n",
       "      <th>7340</th>\n",
       "      <td>0.481928</td>\n",
       "      <td>0.580189</td>\n",
       "      <td>2</td>\n",
       "      <td>2.0</td>\n",
       "      <td>0.105159</td>\n",
       "    </tr>\n",
       "    <tr>\n",
       "      <th>7482</th>\n",
       "      <td>0.216867</td>\n",
       "      <td>0.157233</td>\n",
       "      <td>1</td>\n",
       "      <td>1.0</td>\n",
       "      <td>0.103175</td>\n",
       "    </tr>\n",
       "    <tr>\n",
       "      <th>7530</th>\n",
       "      <td>0.221687</td>\n",
       "      <td>0.113208</td>\n",
       "      <td>1</td>\n",
       "      <td>1.0</td>\n",
       "      <td>0.507937</td>\n",
       "    </tr>\n",
       "  </tbody>\n",
       "</table>\n",
       "</div>"
      ],
      "text/plain": [
       "         price    sqfeet  beds  baths  description_count\n",
       "856   0.313253  0.314465     2    1.5           0.091270\n",
       "6871  0.168675  0.215409     1    1.0           0.130952\n",
       "7340  0.481928  0.580189     2    2.0           0.105159\n",
       "7482  0.216867  0.157233     1    1.0           0.103175\n",
       "7530  0.221687  0.113208     1    1.0           0.507937"
      ]
     },
     "execution_count": 24,
     "metadata": {},
     "output_type": "execute_result"
    }
   ],
   "source": [
    "df_filt2=df_normalised[['price', 'sqfeet', 'beds', 'baths', 'description_count']]\n",
    "df_filt2.head()"
   ]
  },
  {
   "cell_type": "code",
   "execution_count": null,
   "metadata": {},
   "outputs": [],
   "source": []
  },
  {
   "cell_type": "code",
   "execution_count": 25,
   "metadata": {},
   "outputs": [
    {
     "data": {
      "image/png": "[encoded data removed]",
      "text/plain": [
       "<Figure size 900x900 with 30 Axes>"
      ]
     },
     "metadata": {
      "needs_background": "light"
     },
     "output_type": "display_data"
    }
   ],
   "source": [
    "g=sns.pairplot(df_filt2)\n",
    "g.savefig(\"output.png\")"
   ]
  },
  {
   "cell_type": "code",
   "execution_count": 26,
   "metadata": {},
   "outputs": [
    {
     "data": {
      "text/plain": [
       "<seaborn.axisgrid.FacetGrid at 0x27922b23f88>"
      ]
     },
     "execution_count": 26,
     "metadata": {},
     "output_type": "execute_result"
    },
    {
     "data": {
      "image/png": "[encoded data removed]",
      "text/plain": [
       "<Figure size 360x360 with 1 Axes>"
      ]
     },
     "metadata": {
      "needs_background": "light"
     },
     "output_type": "display_data"
    }
   ],
   "source": [
    "sns.catplot(x=\"dogs_allowed\", y=\"price\", kind=\"box\", data=df_normalised)"
   ]
  },
  {
   "cell_type": "code",
   "execution_count": 27,
   "metadata": {},
   "outputs": [
    {
     "data": {
      "text/plain": [
       "<seaborn.axisgrid.FacetGrid at 0x2792578f7c8>"
      ]
     },
     "execution_count": 27,
     "metadata": {},
     "output_type": "execute_result"
    },
    {
     "data": {
      "image/png": "[encoded data removed]",
      "text/plain": [
       "<Figure size 360x360 with 1 Axes>"
      ]
     },
     "metadata": {
      "needs_background": "light"
     },
     "output_type": "display_data"
    }
   ],
   "source": [
    "sns.catplot(x=\"cats_allowed\", y=\"price\", kind=\"box\", data=df_normalised)"
   ]
  },
  {
   "cell_type": "code",
   "execution_count": 28,
   "metadata": {
    "scrolled": false
   },
   "outputs": [
    {
     "data": {
      "image/png": "[encoded data removed]",
      "text/plain": [
       "<Figure size 360x360 with 1 Axes>"
      ]
     },
     "metadata": {
      "needs_background": "light"
     },
     "output_type": "display_data"
    }
   ],
   "source": [
    "sns.catplot(x=\"smoking_allowed\", y=\"price\", kind=\"box\", data=df_normalised)\n",
    "plt.title('Boxplot for smoking_allowed')\n",
    "plt.savefig(\"Boxplot for Somking\", bbox_inches=\"tight\")"
   ]
  },
  {
   "cell_type": "code",
   "execution_count": 29,
   "metadata": {},
   "outputs": [
    {
     "data": {
      "image/png": "[encoded data removed]",
      "text/plain": [
       "<Figure size 360x504 with 1 Axes>"
      ]
     },
     "metadata": {
      "needs_background": "light"
     },
     "output_type": "display_data"
    }
   ],
   "source": [
    "plt.rcParams['figure.figsize']=5,7\n",
    "box_plot=sns.boxplot(x=\"smoking_allowed\", y=\"price\", data=df_normalised)\n",
    "medians = df_normalised.groupby(['smoking_allowed'])['price'].median()\n",
    "vertical_offset = df_normalised['price'].median()*0.05# offset from median for display\n",
    "for xtick in box_plot.get_xticks():\n",
    "    box_plot.text(xtick,medians[xtick] + vertical_offset,medians[xtick], \n",
    "            horizontalalignment='center',size='x-small',color='w',weight='semibold')\n",
    "plt.show()"
   ]
  },
  {
   "cell_type": "code",
   "execution_count": 30,
   "metadata": {},
   "outputs": [
    {
     "data": {
      "text/plain": [
       "<seaborn.axisgrid.FacetGrid at 0x2792578f0c8>"
      ]
     },
     "execution_count": 30,
     "metadata": {},
     "output_type": "execute_result"
    },
    {
     "data": {
      "image/png": "[encoded data removed]",
      "text/plain": [
       "<Figure size 360x360 with 1 Axes>"
      ]
     },
     "metadata": {
      "needs_background": "light"
     },
     "output_type": "display_data"
    }
   ],
   "source": [
    "sns.catplot(x=\"wheelchair_access\", y=\"price\", kind=\"box\", data=df_normalised)"
   ]
  },
  {
   "cell_type": "code",
   "execution_count": 31,
   "metadata": {},
   "outputs": [
    {
     "data": {
      "text/plain": [
       "<seaborn.axisgrid.FacetGrid at 0x2792588b608>"
      ]
     },
     "execution_count": 31,
     "metadata": {},
     "output_type": "execute_result"
    },
    {
     "data": {
      "image/png": "[encoded data removed]",
      "text/plain": [
       "<Figure size 360x360 with 1 Axes>"
      ]
     },
     "metadata": {
      "needs_background": "light"
     },
     "output_type": "display_data"
    }
   ],
   "source": [
    "sns.catplot(x=\"electric_vehicle_charge\", y=\"price\", kind=\"box\", data=df_normalised)"
   ]
  },
  {
   "cell_type": "code",
   "execution_count": 32,
   "metadata": {},
   "outputs": [
    {
     "data": {
      "image/png": "[encoded data removed]",
      "text/plain": [
       "<Figure size 360x504 with 1 Axes>"
      ]
     },
     "metadata": {
      "needs_background": "light"
     },
     "output_type": "display_data"
    }
   ],
   "source": [
    "plt.rcParams['figure.figsize']=5,7\n",
    "box_plot=sns.boxplot(x=\"comes_furnished\", y=\"price\", data=df_normalised)\n",
    "medians = df_normalised.groupby(['comes_furnished'])['price'].median()\n",
    "vertical_offset = df_normalised['price'].median()*0.05# offset from median for display\n",
    "for xtick in box_plot.get_xticks():\n",
    "    box_plot.text(xtick,medians[xtick] + vertical_offset,medians[xtick], \n",
    "            horizontalalignment='center',size='x-small',color='w',weight='semibold')\n",
    "plt.show()\n"
   ]
  },
  {
   "cell_type": "code",
   "execution_count": 33,
   "metadata": {},
   "outputs": [
    {
     "data": {
      "image/png": "[encoded data removed]",
      "text/plain": [
       "<Figure size 1080x360 with 1 Axes>"
      ]
     },
     "metadata": {
      "needs_background": "light"
     },
     "output_type": "display_data"
    }
   ],
   "source": [
    "plt.rcParams['figure.figsize']=15,5\n",
    "box_plot=sns.boxplot(x=\"laundry_options\", y=\"price\", data=df_normalised)\n",
    "plt.title('Boxplot for Laundry Option')\n",
    "plt.xticks(rotation=60)\n",
    "#plt.savefig('foo.png',bbox_inches='tight', dpi=500 )\n",
    "plt.show()"
   ]
  },
  {
   "cell_type": "code",
   "execution_count": 34,
   "metadata": {
    "scrolled": false
   },
   "outputs": [
    {
     "data": {
      "image/png": "[encoded data removed]",
      "text/plain": [
       "<Figure size 1080x360 with 1 Axes>"
      ]
     },
     "metadata": {
      "needs_background": "light"
     },
     "output_type": "display_data"
    }
   ],
   "source": [
    "plt.rcParams['figure.figsize']=15,5\n",
    "box_plot=sns.boxplot(x=\"parking_options\", y=\"price\", data=df_normalised)\n",
    "plt.title('Boxplot for Parking Option')\n",
    "plt.xticks(rotation=60)\n",
    "#plt.savefig('foo.png',bbox_inches='tight', dpi=500 )\n",
    "plt.show()\n",
    "\n"
   ]
  },
  {
   "cell_type": "markdown",
   "metadata": {},
   "source": [
    "## Creating Dummy Variables"
   ]
  },
  {
   "cell_type": "code",
   "execution_count": 35,
   "metadata": {},
   "outputs": [
    {
     "data": {
      "text/html": [
       "<div>\n",
       "<style scoped>\n",
       "    .dataframe tbody tr th:only-of-type {\n",
       "        vertical-align: middle;\n",
       "    }\n",
       "\n",
       "    .dataframe tbody tr th {\n",
       "        vertical-align: top;\n",
       "    }\n",
       "\n",
       "    .dataframe thead th {\n",
       "        text-align: right;\n",
       "    }\n",
       "</style>\n",
       "<table border=\"1\" class=\"dataframe\">\n",
       "  <thead>\n",
       "    <tr style=\"text-align: right;\">\n",
       "      <th></th>\n",
       "      <th>region</th>\n",
       "      <th>type</th>\n",
       "      <th>beds</th>\n",
       "      <th>baths</th>\n",
       "      <th>cats_allowed</th>\n",
       "      <th>dogs_allowed</th>\n",
       "      <th>smoking_allowed</th>\n",
       "      <th>wheelchair_access</th>\n",
       "      <th>electric_vehicle_charge</th>\n",
       "      <th>comes_furnished</th>\n",
       "      <th>...</th>\n",
       "      <th>long</th>\n",
       "      <th>state</th>\n",
       "      <th>price</th>\n",
       "      <th>sqfeet</th>\n",
       "      <th>description_count</th>\n",
       "      <th>laundry_options_laundry in bldg</th>\n",
       "      <th>laundry_options_laundry on site</th>\n",
       "      <th>laundry_options_no laundry on site</th>\n",
       "      <th>laundry_options_w/d hookups</th>\n",
       "      <th>laundry_options_w/d in unit</th>\n",
       "    </tr>\n",
       "  </thead>\n",
       "  <tbody>\n",
       "    <tr>\n",
       "      <th>856</th>\n",
       "      <td>ventura county</td>\n",
       "      <td>apartment</td>\n",
       "      <td>2</td>\n",
       "      <td>1.5</td>\n",
       "      <td>1</td>\n",
       "      <td>1</td>\n",
       "      <td>1</td>\n",
       "      <td>0</td>\n",
       "      <td>0</td>\n",
       "      <td>0</td>\n",
       "      <td>...</td>\n",
       "      <td>-119.043</td>\n",
       "      <td>ca</td>\n",
       "      <td>0.313253</td>\n",
       "      <td>0.314465</td>\n",
       "      <td>0.091270</td>\n",
       "      <td>0</td>\n",
       "      <td>1</td>\n",
       "      <td>0</td>\n",
       "      <td>0</td>\n",
       "      <td>0</td>\n",
       "    </tr>\n",
       "    <tr>\n",
       "      <th>6871</th>\n",
       "      <td>ventura county</td>\n",
       "      <td>condo</td>\n",
       "      <td>1</td>\n",
       "      <td>1.0</td>\n",
       "      <td>1</td>\n",
       "      <td>1</td>\n",
       "      <td>0</td>\n",
       "      <td>0</td>\n",
       "      <td>0</td>\n",
       "      <td>0</td>\n",
       "      <td>...</td>\n",
       "      <td>-118.761</td>\n",
       "      <td>ca</td>\n",
       "      <td>0.168675</td>\n",
       "      <td>0.215409</td>\n",
       "      <td>0.130952</td>\n",
       "      <td>0</td>\n",
       "      <td>0</td>\n",
       "      <td>0</td>\n",
       "      <td>0</td>\n",
       "      <td>1</td>\n",
       "    </tr>\n",
       "  </tbody>\n",
       "</table>\n",
       "<p>2 rows × 23 columns</p>\n",
       "</div>"
      ],
      "text/plain": [
       "              region       type  beds  baths  cats_allowed  dogs_allowed  \\\n",
       "856   ventura county  apartment     2    1.5             1             1   \n",
       "6871  ventura county      condo     1    1.0             1             1   \n",
       "\n",
       "      smoking_allowed  wheelchair_access  electric_vehicle_charge  \\\n",
       "856                 1                  0                        0   \n",
       "6871                0                  0                        0   \n",
       "\n",
       "      comes_furnished  ...     long state     price    sqfeet  \\\n",
       "856                 0  ... -119.043    ca  0.313253  0.314465   \n",
       "6871                0  ... -118.761    ca  0.168675  0.215409   \n",
       "\n",
       "     description_count  laundry_options_laundry in bldg  \\\n",
       "856           0.091270                                0   \n",
       "6871          0.130952                                0   \n",
       "\n",
       "      laundry_options_laundry on site  laundry_options_no laundry on site  \\\n",
       "856                                 1                                   0   \n",
       "6871                                0                                   0   \n",
       "\n",
       "      laundry_options_w/d hookups  laundry_options_w/d in unit  \n",
       "856                             0                            0  \n",
       "6871                            0                            1  \n",
       "\n",
       "[2 rows x 23 columns]"
      ]
     },
     "execution_count": 35,
     "metadata": {},
     "output_type": "execute_result"
    }
   ],
   "source": [
    "dataframe1=pd.get_dummies(df_normalised, columns=['laundry_options'], drop_first=False)\n",
    "dataframe1.head(2)\n"
   ]
  },
  {
   "cell_type": "code",
   "execution_count": 36,
   "metadata": {},
   "outputs": [
    {
     "data": {
      "text/html": [
       "<div>\n",
       "<style scoped>\n",
       "    .dataframe tbody tr th:only-of-type {\n",
       "        vertical-align: middle;\n",
       "    }\n",
       "\n",
       "    .dataframe tbody tr th {\n",
       "        vertical-align: top;\n",
       "    }\n",
       "\n",
       "    .dataframe thead th {\n",
       "        text-align: right;\n",
       "    }\n",
       "</style>\n",
       "<table border=\"1\" class=\"dataframe\">\n",
       "  <thead>\n",
       "    <tr style=\"text-align: right;\">\n",
       "      <th></th>\n",
       "      <th>region</th>\n",
       "      <th>type</th>\n",
       "      <th>beds</th>\n",
       "      <th>baths</th>\n",
       "      <th>cats_allowed</th>\n",
       "      <th>dogs_allowed</th>\n",
       "      <th>smoking_allowed</th>\n",
       "      <th>wheelchair_access</th>\n",
       "      <th>electric_vehicle_charge</th>\n",
       "      <th>comes_furnished</th>\n",
       "      <th>...</th>\n",
       "      <th>laundry_options_laundry on site</th>\n",
       "      <th>laundry_options_no laundry on site</th>\n",
       "      <th>laundry_options_w/d hookups</th>\n",
       "      <th>laundry_options_w/d in unit</th>\n",
       "      <th>parking_options_attached garage</th>\n",
       "      <th>parking_options_carport</th>\n",
       "      <th>parking_options_detached garage</th>\n",
       "      <th>parking_options_no parking</th>\n",
       "      <th>parking_options_off-street parking</th>\n",
       "      <th>parking_options_street parking</th>\n",
       "    </tr>\n",
       "  </thead>\n",
       "  <tbody>\n",
       "    <tr>\n",
       "      <th>856</th>\n",
       "      <td>ventura county</td>\n",
       "      <td>apartment</td>\n",
       "      <td>2</td>\n",
       "      <td>1.5</td>\n",
       "      <td>1</td>\n",
       "      <td>1</td>\n",
       "      <td>1</td>\n",
       "      <td>0</td>\n",
       "      <td>0</td>\n",
       "      <td>0</td>\n",
       "      <td>...</td>\n",
       "      <td>1</td>\n",
       "      <td>0</td>\n",
       "      <td>0</td>\n",
       "      <td>0</td>\n",
       "      <td>0</td>\n",
       "      <td>1</td>\n",
       "      <td>0</td>\n",
       "      <td>0</td>\n",
       "      <td>0</td>\n",
       "      <td>0</td>\n",
       "    </tr>\n",
       "    <tr>\n",
       "      <th>6871</th>\n",
       "      <td>ventura county</td>\n",
       "      <td>condo</td>\n",
       "      <td>1</td>\n",
       "      <td>1.0</td>\n",
       "      <td>1</td>\n",
       "      <td>1</td>\n",
       "      <td>0</td>\n",
       "      <td>0</td>\n",
       "      <td>0</td>\n",
       "      <td>0</td>\n",
       "      <td>...</td>\n",
       "      <td>0</td>\n",
       "      <td>0</td>\n",
       "      <td>0</td>\n",
       "      <td>1</td>\n",
       "      <td>1</td>\n",
       "      <td>0</td>\n",
       "      <td>0</td>\n",
       "      <td>0</td>\n",
       "      <td>0</td>\n",
       "      <td>0</td>\n",
       "    </tr>\n",
       "  </tbody>\n",
       "</table>\n",
       "<p>2 rows × 28 columns</p>\n",
       "</div>"
      ],
      "text/plain": [
       "              region       type  beds  baths  cats_allowed  dogs_allowed  \\\n",
       "856   ventura county  apartment     2    1.5             1             1   \n",
       "6871  ventura county      condo     1    1.0             1             1   \n",
       "\n",
       "      smoking_allowed  wheelchair_access  electric_vehicle_charge  \\\n",
       "856                 1                  0                        0   \n",
       "6871                0                  0                        0   \n",
       "\n",
       "      comes_furnished  ... laundry_options_laundry on site  \\\n",
       "856                 0  ...                               1   \n",
       "6871                0  ...                               0   \n",
       "\n",
       "      laundry_options_no laundry on site  laundry_options_w/d hookups  \\\n",
       "856                                    0                            0   \n",
       "6871                                   0                            0   \n",
       "\n",
       "     laundry_options_w/d in unit  parking_options_attached garage  \\\n",
       "856                            0                                0   \n",
       "6871                           1                                1   \n",
       "\n",
       "      parking_options_carport  parking_options_detached garage  \\\n",
       "856                         1                                0   \n",
       "6871                        0                                0   \n",
       "\n",
       "      parking_options_no parking  parking_options_off-street parking  \\\n",
       "856                            0                                   0   \n",
       "6871                           0                                   0   \n",
       "\n",
       "      parking_options_street parking  \n",
       "856                                0  \n",
       "6871                               0  \n",
       "\n",
       "[2 rows x 28 columns]"
      ]
     },
     "execution_count": 36,
     "metadata": {},
     "output_type": "execute_result"
    }
   ],
   "source": [
    "df_valid2=pd.get_dummies(dataframe1, columns=['parking_options'], drop_first=False)\n",
    "df_valid2.head(2)"
   ]
  },
  {
   "cell_type": "code",
   "execution_count": 37,
   "metadata": {},
   "outputs": [
    {
     "data": {
      "text/plain": [
       "(1678, 28)"
      ]
     },
     "execution_count": 37,
     "metadata": {},
     "output_type": "execute_result"
    }
   ],
   "source": [
    "df_valid2.shape"
   ]
  },
  {
   "cell_type": "code",
   "execution_count": 38,
   "metadata": {},
   "outputs": [
    {
     "data": {
      "text/html": [
       "<div>\n",
       "<style scoped>\n",
       "    .dataframe tbody tr th:only-of-type {\n",
       "        vertical-align: middle;\n",
       "    }\n",
       "\n",
       "    .dataframe tbody tr th {\n",
       "        vertical-align: top;\n",
       "    }\n",
       "\n",
       "    .dataframe thead th {\n",
       "        text-align: right;\n",
       "    }\n",
       "</style>\n",
       "<table border=\"1\" class=\"dataframe\">\n",
       "  <thead>\n",
       "    <tr style=\"text-align: right;\">\n",
       "      <th></th>\n",
       "      <th>beds</th>\n",
       "      <th>baths</th>\n",
       "      <th>smoking_allowed</th>\n",
       "      <th>price</th>\n",
       "      <th>sqfeet</th>\n",
       "      <th>description_count</th>\n",
       "      <th>laundry_options_laundry in bldg</th>\n",
       "      <th>laundry_options_laundry on site</th>\n",
       "      <th>laundry_options_no laundry on site</th>\n",
       "      <th>laundry_options_w/d hookups</th>\n",
       "      <th>laundry_options_w/d in unit</th>\n",
       "      <th>parking_options_attached garage</th>\n",
       "      <th>parking_options_carport</th>\n",
       "      <th>parking_options_detached garage</th>\n",
       "      <th>parking_options_no parking</th>\n",
       "      <th>parking_options_off-street parking</th>\n",
       "      <th>parking_options_street parking</th>\n",
       "    </tr>\n",
       "  </thead>\n",
       "  <tbody>\n",
       "    <tr>\n",
       "      <th>856</th>\n",
       "      <td>2</td>\n",
       "      <td>1.5</td>\n",
       "      <td>1</td>\n",
       "      <td>0.313253</td>\n",
       "      <td>0.314465</td>\n",
       "      <td>0.091270</td>\n",
       "      <td>0</td>\n",
       "      <td>1</td>\n",
       "      <td>0</td>\n",
       "      <td>0</td>\n",
       "      <td>0</td>\n",
       "      <td>0</td>\n",
       "      <td>1</td>\n",
       "      <td>0</td>\n",
       "      <td>0</td>\n",
       "      <td>0</td>\n",
       "      <td>0</td>\n",
       "    </tr>\n",
       "    <tr>\n",
       "      <th>6871</th>\n",
       "      <td>1</td>\n",
       "      <td>1.0</td>\n",
       "      <td>0</td>\n",
       "      <td>0.168675</td>\n",
       "      <td>0.215409</td>\n",
       "      <td>0.130952</td>\n",
       "      <td>0</td>\n",
       "      <td>0</td>\n",
       "      <td>0</td>\n",
       "      <td>0</td>\n",
       "      <td>1</td>\n",
       "      <td>1</td>\n",
       "      <td>0</td>\n",
       "      <td>0</td>\n",
       "      <td>0</td>\n",
       "      <td>0</td>\n",
       "      <td>0</td>\n",
       "    </tr>\n",
       "    <tr>\n",
       "      <th>7340</th>\n",
       "      <td>2</td>\n",
       "      <td>2.0</td>\n",
       "      <td>0</td>\n",
       "      <td>0.481928</td>\n",
       "      <td>0.580189</td>\n",
       "      <td>0.105159</td>\n",
       "      <td>0</td>\n",
       "      <td>0</td>\n",
       "      <td>0</td>\n",
       "      <td>0</td>\n",
       "      <td>1</td>\n",
       "      <td>0</td>\n",
       "      <td>1</td>\n",
       "      <td>0</td>\n",
       "      <td>0</td>\n",
       "      <td>0</td>\n",
       "      <td>0</td>\n",
       "    </tr>\n",
       "    <tr>\n",
       "      <th>7482</th>\n",
       "      <td>1</td>\n",
       "      <td>1.0</td>\n",
       "      <td>1</td>\n",
       "      <td>0.216867</td>\n",
       "      <td>0.157233</td>\n",
       "      <td>0.103175</td>\n",
       "      <td>0</td>\n",
       "      <td>1</td>\n",
       "      <td>0</td>\n",
       "      <td>0</td>\n",
       "      <td>0</td>\n",
       "      <td>0</td>\n",
       "      <td>1</td>\n",
       "      <td>0</td>\n",
       "      <td>0</td>\n",
       "      <td>0</td>\n",
       "      <td>0</td>\n",
       "    </tr>\n",
       "    <tr>\n",
       "      <th>7530</th>\n",
       "      <td>1</td>\n",
       "      <td>1.0</td>\n",
       "      <td>1</td>\n",
       "      <td>0.221687</td>\n",
       "      <td>0.113208</td>\n",
       "      <td>0.507937</td>\n",
       "      <td>0</td>\n",
       "      <td>0</td>\n",
       "      <td>0</td>\n",
       "      <td>0</td>\n",
       "      <td>1</td>\n",
       "      <td>0</td>\n",
       "      <td>1</td>\n",
       "      <td>0</td>\n",
       "      <td>0</td>\n",
       "      <td>0</td>\n",
       "      <td>0</td>\n",
       "    </tr>\n",
       "  </tbody>\n",
       "</table>\n",
       "</div>"
      ],
      "text/plain": [
       "      beds  baths  smoking_allowed     price    sqfeet  description_count  \\\n",
       "856      2    1.5                1  0.313253  0.314465           0.091270   \n",
       "6871     1    1.0                0  0.168675  0.215409           0.130952   \n",
       "7340     2    2.0                0  0.481928  0.580189           0.105159   \n",
       "7482     1    1.0                1  0.216867  0.157233           0.103175   \n",
       "7530     1    1.0                1  0.221687  0.113208           0.507937   \n",
       "\n",
       "      laundry_options_laundry in bldg  laundry_options_laundry on site  \\\n",
       "856                                 0                                1   \n",
       "6871                                0                                0   \n",
       "7340                                0                                0   \n",
       "7482                                0                                1   \n",
       "7530                                0                                0   \n",
       "\n",
       "      laundry_options_no laundry on site  laundry_options_w/d hookups  \\\n",
       "856                                    0                            0   \n",
       "6871                                   0                            0   \n",
       "7340                                   0                            0   \n",
       "7482                                   0                            0   \n",
       "7530                                   0                            0   \n",
       "\n",
       "      laundry_options_w/d in unit  parking_options_attached garage  \\\n",
       "856                             0                                0   \n",
       "6871                            1                                1   \n",
       "7340                            1                                0   \n",
       "7482                            0                                0   \n",
       "7530                            1                                0   \n",
       "\n",
       "      parking_options_carport  parking_options_detached garage  \\\n",
       "856                         1                                0   \n",
       "6871                        0                                0   \n",
       "7340                        1                                0   \n",
       "7482                        1                                0   \n",
       "7530                        1                                0   \n",
       "\n",
       "      parking_options_no parking  parking_options_off-street parking  \\\n",
       "856                            0                                   0   \n",
       "6871                           0                                   0   \n",
       "7340                           0                                   0   \n",
       "7482                           0                                   0   \n",
       "7530                           0                                   0   \n",
       "\n",
       "      parking_options_street parking  \n",
       "856                                0  \n",
       "6871                               0  \n",
       "7340                               0  \n",
       "7482                               0  \n",
       "7530                               0  "
      ]
     },
     "execution_count": 38,
     "metadata": {},
     "output_type": "execute_result"
    }
   ],
   "source": [
    "df_valid3=df_valid2.drop(['region', 'type', 'description','cats_allowed', 'dogs_allowed',\n",
    "                          'wheelchair_access', 'electric_vehicle_charge',\n",
    "                          'comes_furnished','long', 'lat', 'state' ], axis=1)\n",
    "df_valid3.head()"
   ]
  },
  {
   "cell_type": "markdown",
   "metadata": {},
   "source": [
    "## Part II: Inferential Statistical Analysis"
   ]
  },
  {
   "cell_type": "code",
   "execution_count": 39,
   "metadata": {
    "scrolled": false
   },
   "outputs": [
    {
     "data": {
      "image/png": "[encoded data removed]",
      "text/plain": [
       "<Figure size 1080x360 with 2 Axes>"
      ]
     },
     "metadata": {
      "needs_background": "light"
     },
     "output_type": "display_data"
    }
   ],
   "source": [
    "heatmap=sns.heatmap(df_valid3.corr(), annot=True,fmt='.1g',vmin=-1, vmax=1, center= 0, cmap= 'coolwarm')\n",
    "plt.savefig('heatmap.png',bbox_inches='tight', dpi=500 )\n",
    "plt.show()\n"
   ]
  },
  {
   "cell_type": "code",
   "execution_count": 40,
   "metadata": {
    "scrolled": false
   },
   "outputs": [
    {
     "data": {
      "image/png": "[encoded data removed]",
      "text/plain": [
       "<Figure size 1080x360 with 1 Axes>"
      ]
     },
     "metadata": {
      "needs_background": "light"
     },
     "output_type": "display_data"
    }
   ],
   "source": [
    "plt.rcParams['figure.figsize']=(15,5)\n",
    "corr=df_valid3.corr()\n",
    "corr = corr.sort_values(\"price\", ascending=False)\n",
    "corr['price'].plot(kind='bar')\n",
    "plt.title(\"Variables correlated with Price\")\n",
    "plt.ylabel(\"Correlation Strength\")\n",
    "plt.savefig('barchart.png',bbox_inches='tight', dpi=500 )\n",
    "plt.show()"
   ]
  },
  {
   "cell_type": "code",
   "execution_count": 41,
   "metadata": {},
   "outputs": [
    {
     "data": {
      "text/html": [
       "<div>\n",
       "<style scoped>\n",
       "    .dataframe tbody tr th:only-of-type {\n",
       "        vertical-align: middle;\n",
       "    }\n",
       "\n",
       "    .dataframe tbody tr th {\n",
       "        vertical-align: top;\n",
       "    }\n",
       "\n",
       "    .dataframe thead th {\n",
       "        text-align: right;\n",
       "    }\n",
       "</style>\n",
       "<table border=\"1\" class=\"dataframe\">\n",
       "  <thead>\n",
       "    <tr style=\"text-align: right;\">\n",
       "      <th></th>\n",
       "      <th>beds</th>\n",
       "      <th>baths</th>\n",
       "      <th>smoking_allowed</th>\n",
       "      <th>price</th>\n",
       "      <th>sqfeet</th>\n",
       "      <th>description_count</th>\n",
       "      <th>laundry_options_laundry in bldg</th>\n",
       "      <th>laundry_options_laundry on site</th>\n",
       "      <th>laundry_options_no laundry on site</th>\n",
       "      <th>laundry_options_w/d hookups</th>\n",
       "      <th>laundry_options_w/d in unit</th>\n",
       "      <th>parking_options_attached garage</th>\n",
       "      <th>parking_options_carport</th>\n",
       "      <th>parking_options_detached garage</th>\n",
       "      <th>parking_options_no parking</th>\n",
       "      <th>parking_options_off-street parking</th>\n",
       "      <th>parking_options_street parking</th>\n",
       "    </tr>\n",
       "  </thead>\n",
       "  <tbody>\n",
       "    <tr>\n",
       "      <th>price</th>\n",
       "      <td>0.694363</td>\n",
       "      <td>0.693897</td>\n",
       "      <td>0.161055</td>\n",
       "      <td>1.000000</td>\n",
       "      <td>0.841510</td>\n",
       "      <td>0.172053</td>\n",
       "      <td>-0.026121</td>\n",
       "      <td>-0.428805</td>\n",
       "      <td>-0.036639</td>\n",
       "      <td>0.015215</td>\n",
       "      <td>0.280663</td>\n",
       "      <td>0.175576</td>\n",
       "      <td>-0.301796</td>\n",
       "      <td>0.057245</td>\n",
       "      <td>0.057925</td>\n",
       "      <td>-0.145293</td>\n",
       "      <td>-0.000586</td>\n",
       "    </tr>\n",
       "    <tr>\n",
       "      <th>sqfeet</th>\n",
       "      <td>0.813812</td>\n",
       "      <td>0.758530</td>\n",
       "      <td>0.082583</td>\n",
       "      <td>0.841510</td>\n",
       "      <td>1.000000</td>\n",
       "      <td>0.243409</td>\n",
       "      <td>0.023601</td>\n",
       "      <td>-0.345526</td>\n",
       "      <td>-0.025394</td>\n",
       "      <td>0.069195</td>\n",
       "      <td>0.164124</td>\n",
       "      <td>0.209042</td>\n",
       "      <td>-0.272839</td>\n",
       "      <td>0.058120</td>\n",
       "      <td>0.012063</td>\n",
       "      <td>-0.167939</td>\n",
       "      <td>-0.006174</td>\n",
       "    </tr>\n",
       "    <tr>\n",
       "      <th>beds</th>\n",
       "      <td>1.000000</td>\n",
       "      <td>0.739650</td>\n",
       "      <td>0.150750</td>\n",
       "      <td>0.694363</td>\n",
       "      <td>0.813812</td>\n",
       "      <td>0.197232</td>\n",
       "      <td>0.027322</td>\n",
       "      <td>-0.330294</td>\n",
       "      <td>-0.030769</td>\n",
       "      <td>0.053113</td>\n",
       "      <td>0.155491</td>\n",
       "      <td>0.085822</td>\n",
       "      <td>-0.083777</td>\n",
       "      <td>0.035765</td>\n",
       "      <td>0.004814</td>\n",
       "      <td>-0.126022</td>\n",
       "      <td>-0.018359</td>\n",
       "    </tr>\n",
       "    <tr>\n",
       "      <th>baths</th>\n",
       "      <td>0.739650</td>\n",
       "      <td>1.000000</td>\n",
       "      <td>0.133745</td>\n",
       "      <td>0.693897</td>\n",
       "      <td>0.758530</td>\n",
       "      <td>0.202942</td>\n",
       "      <td>0.004196</td>\n",
       "      <td>-0.366016</td>\n",
       "      <td>-0.028319</td>\n",
       "      <td>0.009078</td>\n",
       "      <td>0.222466</td>\n",
       "      <td>0.150876</td>\n",
       "      <td>-0.175435</td>\n",
       "      <td>0.011291</td>\n",
       "      <td>-0.004368</td>\n",
       "      <td>-0.136798</td>\n",
       "      <td>-0.006179</td>\n",
       "    </tr>\n",
       "    <tr>\n",
       "      <th>laundry_options_w/d in unit</th>\n",
       "      <td>0.155491</td>\n",
       "      <td>0.222466</td>\n",
       "      <td>0.285841</td>\n",
       "      <td>0.280663</td>\n",
       "      <td>0.164124</td>\n",
       "      <td>-0.036489</td>\n",
       "      <td>-0.111263</td>\n",
       "      <td>-0.707918</td>\n",
       "      <td>-0.030748</td>\n",
       "      <td>-0.148440</td>\n",
       "      <td>1.000000</td>\n",
       "      <td>0.184494</td>\n",
       "      <td>-0.027807</td>\n",
       "      <td>0.093209</td>\n",
       "      <td>-0.030748</td>\n",
       "      <td>-0.013200</td>\n",
       "      <td>0.027434</td>\n",
       "    </tr>\n",
       "  </tbody>\n",
       "</table>\n",
       "</div>"
      ],
      "text/plain": [
       "                                 beds     baths  smoking_allowed     price  \\\n",
       "price                        0.694363  0.693897         0.161055  1.000000   \n",
       "sqfeet                       0.813812  0.758530         0.082583  0.841510   \n",
       "beds                         1.000000  0.739650         0.150750  0.694363   \n",
       "baths                        0.739650  1.000000         0.133745  0.693897   \n",
       "laundry_options_w/d in unit  0.155491  0.222466         0.285841  0.280663   \n",
       "\n",
       "                               sqfeet  description_count  \\\n",
       "price                        0.841510           0.172053   \n",
       "sqfeet                       1.000000           0.243409   \n",
       "beds                         0.813812           0.197232   \n",
       "baths                        0.758530           0.202942   \n",
       "laundry_options_w/d in unit  0.164124          -0.036489   \n",
       "\n",
       "                             laundry_options_laundry in bldg  \\\n",
       "price                                              -0.026121   \n",
       "sqfeet                                              0.023601   \n",
       "beds                                                0.027322   \n",
       "baths                                               0.004196   \n",
       "laundry_options_w/d in unit                        -0.111263   \n",
       "\n",
       "                             laundry_options_laundry on site  \\\n",
       "price                                              -0.428805   \n",
       "sqfeet                                             -0.345526   \n",
       "beds                                               -0.330294   \n",
       "baths                                              -0.366016   \n",
       "laundry_options_w/d in unit                        -0.707918   \n",
       "\n",
       "                             laundry_options_no laundry on site  \\\n",
       "price                                                 -0.036639   \n",
       "sqfeet                                                -0.025394   \n",
       "beds                                                  -0.030769   \n",
       "baths                                                 -0.028319   \n",
       "laundry_options_w/d in unit                           -0.030748   \n",
       "\n",
       "                             laundry_options_w/d hookups  \\\n",
       "price                                           0.015215   \n",
       "sqfeet                                          0.069195   \n",
       "beds                                            0.053113   \n",
       "baths                                           0.009078   \n",
       "laundry_options_w/d in unit                    -0.148440   \n",
       "\n",
       "                             laundry_options_w/d in unit  \\\n",
       "price                                           0.280663   \n",
       "sqfeet                                          0.164124   \n",
       "beds                                            0.155491   \n",
       "baths                                           0.222466   \n",
       "laundry_options_w/d in unit                     1.000000   \n",
       "\n",
       "                             parking_options_attached garage  \\\n",
       "price                                               0.175576   \n",
       "sqfeet                                              0.209042   \n",
       "beds                                                0.085822   \n",
       "baths                                               0.150876   \n",
       "laundry_options_w/d in unit                         0.184494   \n",
       "\n",
       "                             parking_options_carport  \\\n",
       "price                                      -0.301796   \n",
       "sqfeet                                     -0.272839   \n",
       "beds                                       -0.083777   \n",
       "baths                                      -0.175435   \n",
       "laundry_options_w/d in unit                -0.027807   \n",
       "\n",
       "                             parking_options_detached garage  \\\n",
       "price                                               0.057245   \n",
       "sqfeet                                              0.058120   \n",
       "beds                                                0.035765   \n",
       "baths                                               0.011291   \n",
       "laundry_options_w/d in unit                         0.093209   \n",
       "\n",
       "                             parking_options_no parking  \\\n",
       "price                                          0.057925   \n",
       "sqfeet                                         0.012063   \n",
       "beds                                           0.004814   \n",
       "baths                                         -0.004368   \n",
       "laundry_options_w/d in unit                   -0.030748   \n",
       "\n",
       "                             parking_options_off-street parking  \\\n",
       "price                                                 -0.145293   \n",
       "sqfeet                                                -0.167939   \n",
       "beds                                                  -0.126022   \n",
       "baths                                                 -0.136798   \n",
       "laundry_options_w/d in unit                           -0.013200   \n",
       "\n",
       "                             parking_options_street parking  \n",
       "price                                             -0.000586  \n",
       "sqfeet                                            -0.006174  \n",
       "beds                                              -0.018359  \n",
       "baths                                             -0.006179  \n",
       "laundry_options_w/d in unit                        0.027434  "
      ]
     },
     "execution_count": 41,
     "metadata": {},
     "output_type": "execute_result"
    }
   ],
   "source": [
    "corr = corr.sort_values(\"price\", ascending=False)\n",
    "corr.head()"
   ]
  },
  {
   "cell_type": "code",
   "execution_count": 42,
   "metadata": {},
   "outputs": [
    {
     "data": {
      "text/html": [
       "<div>\n",
       "<style scoped>\n",
       "    .dataframe tbody tr th:only-of-type {\n",
       "        vertical-align: middle;\n",
       "    }\n",
       "\n",
       "    .dataframe tbody tr th {\n",
       "        vertical-align: top;\n",
       "    }\n",
       "\n",
       "    .dataframe thead th {\n",
       "        text-align: right;\n",
       "    }\n",
       "</style>\n",
       "<table border=\"1\" class=\"dataframe\">\n",
       "  <thead>\n",
       "    <tr style=\"text-align: right;\">\n",
       "      <th></th>\n",
       "      <th>beds</th>\n",
       "      <th>baths</th>\n",
       "      <th>smoking_allowed</th>\n",
       "      <th>price</th>\n",
       "      <th>sqfeet</th>\n",
       "      <th>description_count</th>\n",
       "      <th>laundry_options_laundry in bldg</th>\n",
       "      <th>laundry_options_laundry on site</th>\n",
       "      <th>laundry_options_no laundry on site</th>\n",
       "      <th>laundry_options_w/d hookups</th>\n",
       "      <th>laundry_options_w/d in unit</th>\n",
       "      <th>parking_options_attached garage</th>\n",
       "      <th>parking_options_carport</th>\n",
       "      <th>parking_options_detached garage</th>\n",
       "      <th>parking_options_no parking</th>\n",
       "      <th>parking_options_off-street parking</th>\n",
       "      <th>parking_options_street parking</th>\n",
       "    </tr>\n",
       "  </thead>\n",
       "  <tbody>\n",
       "    <tr>\n",
       "      <th>856</th>\n",
       "      <td>2</td>\n",
       "      <td>1.5</td>\n",
       "      <td>1</td>\n",
       "      <td>0.313253</td>\n",
       "      <td>0.314465</td>\n",
       "      <td>0.091270</td>\n",
       "      <td>0</td>\n",
       "      <td>1</td>\n",
       "      <td>0</td>\n",
       "      <td>0</td>\n",
       "      <td>0</td>\n",
       "      <td>0</td>\n",
       "      <td>1</td>\n",
       "      <td>0</td>\n",
       "      <td>0</td>\n",
       "      <td>0</td>\n",
       "      <td>0</td>\n",
       "    </tr>\n",
       "    <tr>\n",
       "      <th>6871</th>\n",
       "      <td>1</td>\n",
       "      <td>1.0</td>\n",
       "      <td>0</td>\n",
       "      <td>0.168675</td>\n",
       "      <td>0.215409</td>\n",
       "      <td>0.130952</td>\n",
       "      <td>0</td>\n",
       "      <td>0</td>\n",
       "      <td>0</td>\n",
       "      <td>0</td>\n",
       "      <td>1</td>\n",
       "      <td>1</td>\n",
       "      <td>0</td>\n",
       "      <td>0</td>\n",
       "      <td>0</td>\n",
       "      <td>0</td>\n",
       "      <td>0</td>\n",
       "    </tr>\n",
       "    <tr>\n",
       "      <th>7340</th>\n",
       "      <td>2</td>\n",
       "      <td>2.0</td>\n",
       "      <td>0</td>\n",
       "      <td>0.481928</td>\n",
       "      <td>0.580189</td>\n",
       "      <td>0.105159</td>\n",
       "      <td>0</td>\n",
       "      <td>0</td>\n",
       "      <td>0</td>\n",
       "      <td>0</td>\n",
       "      <td>1</td>\n",
       "      <td>0</td>\n",
       "      <td>1</td>\n",
       "      <td>0</td>\n",
       "      <td>0</td>\n",
       "      <td>0</td>\n",
       "      <td>0</td>\n",
       "    </tr>\n",
       "    <tr>\n",
       "      <th>7482</th>\n",
       "      <td>1</td>\n",
       "      <td>1.0</td>\n",
       "      <td>1</td>\n",
       "      <td>0.216867</td>\n",
       "      <td>0.157233</td>\n",
       "      <td>0.103175</td>\n",
       "      <td>0</td>\n",
       "      <td>1</td>\n",
       "      <td>0</td>\n",
       "      <td>0</td>\n",
       "      <td>0</td>\n",
       "      <td>0</td>\n",
       "      <td>1</td>\n",
       "      <td>0</td>\n",
       "      <td>0</td>\n",
       "      <td>0</td>\n",
       "      <td>0</td>\n",
       "    </tr>\n",
       "    <tr>\n",
       "      <th>7530</th>\n",
       "      <td>1</td>\n",
       "      <td>1.0</td>\n",
       "      <td>1</td>\n",
       "      <td>0.221687</td>\n",
       "      <td>0.113208</td>\n",
       "      <td>0.507937</td>\n",
       "      <td>0</td>\n",
       "      <td>0</td>\n",
       "      <td>0</td>\n",
       "      <td>0</td>\n",
       "      <td>1</td>\n",
       "      <td>0</td>\n",
       "      <td>1</td>\n",
       "      <td>0</td>\n",
       "      <td>0</td>\n",
       "      <td>0</td>\n",
       "      <td>0</td>\n",
       "    </tr>\n",
       "  </tbody>\n",
       "</table>\n",
       "</div>"
      ],
      "text/plain": [
       "      beds  baths  smoking_allowed     price    sqfeet  description_count  \\\n",
       "856      2    1.5                1  0.313253  0.314465           0.091270   \n",
       "6871     1    1.0                0  0.168675  0.215409           0.130952   \n",
       "7340     2    2.0                0  0.481928  0.580189           0.105159   \n",
       "7482     1    1.0                1  0.216867  0.157233           0.103175   \n",
       "7530     1    1.0                1  0.221687  0.113208           0.507937   \n",
       "\n",
       "      laundry_options_laundry in bldg  laundry_options_laundry on site  \\\n",
       "856                                 0                                1   \n",
       "6871                                0                                0   \n",
       "7340                                0                                0   \n",
       "7482                                0                                1   \n",
       "7530                                0                                0   \n",
       "\n",
       "      laundry_options_no laundry on site  laundry_options_w/d hookups  \\\n",
       "856                                    0                            0   \n",
       "6871                                   0                            0   \n",
       "7340                                   0                            0   \n",
       "7482                                   0                            0   \n",
       "7530                                   0                            0   \n",
       "\n",
       "      laundry_options_w/d in unit  parking_options_attached garage  \\\n",
       "856                             0                                0   \n",
       "6871                            1                                1   \n",
       "7340                            1                                0   \n",
       "7482                            0                                0   \n",
       "7530                            1                                0   \n",
       "\n",
       "      parking_options_carport  parking_options_detached garage  \\\n",
       "856                         1                                0   \n",
       "6871                        0                                0   \n",
       "7340                        1                                0   \n",
       "7482                        1                                0   \n",
       "7530                        1                                0   \n",
       "\n",
       "      parking_options_no parking  parking_options_off-street parking  \\\n",
       "856                            0                                   0   \n",
       "6871                           0                                   0   \n",
       "7340                           0                                   0   \n",
       "7482                           0                                   0   \n",
       "7530                           0                                   0   \n",
       "\n",
       "      parking_options_street parking  \n",
       "856                                0  \n",
       "6871                               0  \n",
       "7340                               0  \n",
       "7482                               0  \n",
       "7530                               0  "
      ]
     },
     "execution_count": 42,
     "metadata": {},
     "output_type": "execute_result"
    }
   ],
   "source": [
    "df_valid3.head()"
   ]
  },
  {
   "cell_type": "code",
   "execution_count": 43,
   "metadata": {
    "scrolled": true
   },
   "outputs": [
    {
     "data": {
      "text/html": [
       "<div>\n",
       "<style scoped>\n",
       "    .dataframe tbody tr th:only-of-type {\n",
       "        vertical-align: middle;\n",
       "    }\n",
       "\n",
       "    .dataframe tbody tr th {\n",
       "        vertical-align: top;\n",
       "    }\n",
       "\n",
       "    .dataframe thead th {\n",
       "        text-align: right;\n",
       "    }\n",
       "</style>\n",
       "<table border=\"1\" class=\"dataframe\">\n",
       "  <thead>\n",
       "    <tr style=\"text-align: right;\">\n",
       "      <th></th>\n",
       "      <th>beds</th>\n",
       "      <th>baths</th>\n",
       "      <th>smoking_allowed</th>\n",
       "      <th>sqfeet</th>\n",
       "      <th>description_count</th>\n",
       "      <th>laundry_options_laundry in bldg</th>\n",
       "      <th>laundry_options_laundry on site</th>\n",
       "      <th>laundry_options_no laundry on site</th>\n",
       "      <th>laundry_options_w/d hookups</th>\n",
       "      <th>laundry_options_w/d in unit</th>\n",
       "      <th>parking_options_attached garage</th>\n",
       "      <th>parking_options_carport</th>\n",
       "      <th>parking_options_detached garage</th>\n",
       "      <th>parking_options_no parking</th>\n",
       "      <th>parking_options_off-street parking</th>\n",
       "      <th>parking_options_street parking</th>\n",
       "      <th>price</th>\n",
       "    </tr>\n",
       "  </thead>\n",
       "  <tbody>\n",
       "    <tr>\n",
       "      <th>14692</th>\n",
       "      <td>2</td>\n",
       "      <td>1.0</td>\n",
       "      <td>1</td>\n",
       "      <td>0.423742</td>\n",
       "      <td>0.509921</td>\n",
       "      <td>0</td>\n",
       "      <td>0</td>\n",
       "      <td>0</td>\n",
       "      <td>0</td>\n",
       "      <td>1</td>\n",
       "      <td>0</td>\n",
       "      <td>1</td>\n",
       "      <td>0</td>\n",
       "      <td>0</td>\n",
       "      <td>0</td>\n",
       "      <td>0</td>\n",
       "      <td>0.407229</td>\n",
       "    </tr>\n",
       "    <tr>\n",
       "      <th>14694</th>\n",
       "      <td>2</td>\n",
       "      <td>2.0</td>\n",
       "      <td>1</td>\n",
       "      <td>0.401730</td>\n",
       "      <td>0.357143</td>\n",
       "      <td>0</td>\n",
       "      <td>0</td>\n",
       "      <td>0</td>\n",
       "      <td>0</td>\n",
       "      <td>1</td>\n",
       "      <td>0</td>\n",
       "      <td>0</td>\n",
       "      <td>0</td>\n",
       "      <td>0</td>\n",
       "      <td>0</td>\n",
       "      <td>0</td>\n",
       "      <td>0.492530</td>\n",
       "    </tr>\n",
       "    <tr>\n",
       "      <th>14698</th>\n",
       "      <td>2</td>\n",
       "      <td>2.5</td>\n",
       "      <td>0</td>\n",
       "      <td>0.942610</td>\n",
       "      <td>0.926587</td>\n",
       "      <td>0</td>\n",
       "      <td>0</td>\n",
       "      <td>0</td>\n",
       "      <td>0</td>\n",
       "      <td>1</td>\n",
       "      <td>0</td>\n",
       "      <td>0</td>\n",
       "      <td>0</td>\n",
       "      <td>0</td>\n",
       "      <td>0</td>\n",
       "      <td>0</td>\n",
       "      <td>0.843373</td>\n",
       "    </tr>\n",
       "    <tr>\n",
       "      <th>379409</th>\n",
       "      <td>3</td>\n",
       "      <td>2.0</td>\n",
       "      <td>1</td>\n",
       "      <td>0.683176</td>\n",
       "      <td>0.734127</td>\n",
       "      <td>0</td>\n",
       "      <td>0</td>\n",
       "      <td>0</td>\n",
       "      <td>0</td>\n",
       "      <td>1</td>\n",
       "      <td>0</td>\n",
       "      <td>1</td>\n",
       "      <td>0</td>\n",
       "      <td>0</td>\n",
       "      <td>0</td>\n",
       "      <td>0</td>\n",
       "      <td>0.648193</td>\n",
       "    </tr>\n",
       "    <tr>\n",
       "      <th>379475</th>\n",
       "      <td>2</td>\n",
       "      <td>2.0</td>\n",
       "      <td>1</td>\n",
       "      <td>0.469340</td>\n",
       "      <td>0.706349</td>\n",
       "      <td>0</td>\n",
       "      <td>0</td>\n",
       "      <td>0</td>\n",
       "      <td>0</td>\n",
       "      <td>1</td>\n",
       "      <td>0</td>\n",
       "      <td>1</td>\n",
       "      <td>0</td>\n",
       "      <td>0</td>\n",
       "      <td>0</td>\n",
       "      <td>0</td>\n",
       "      <td>0.479518</td>\n",
       "    </tr>\n",
       "  </tbody>\n",
       "</table>\n",
       "</div>"
      ],
      "text/plain": [
       "        beds  baths  smoking_allowed    sqfeet  description_count  \\\n",
       "14692      2    1.0                1  0.423742           0.509921   \n",
       "14694      2    2.0                1  0.401730           0.357143   \n",
       "14698      2    2.5                0  0.942610           0.926587   \n",
       "379409     3    2.0                1  0.683176           0.734127   \n",
       "379475     2    2.0                1  0.469340           0.706349   \n",
       "\n",
       "        laundry_options_laundry in bldg  laundry_options_laundry on site  \\\n",
       "14692                                 0                                0   \n",
       "14694                                 0                                0   \n",
       "14698                                 0                                0   \n",
       "379409                                0                                0   \n",
       "379475                                0                                0   \n",
       "\n",
       "        laundry_options_no laundry on site  laundry_options_w/d hookups  \\\n",
       "14692                                    0                            0   \n",
       "14694                                    0                            0   \n",
       "14698                                    0                            0   \n",
       "379409                                   0                            0   \n",
       "379475                                   0                            0   \n",
       "\n",
       "        laundry_options_w/d in unit  parking_options_attached garage  \\\n",
       "14692                             1                                0   \n",
       "14694                             1                                0   \n",
       "14698                             1                                0   \n",
       "379409                            1                                0   \n",
       "379475                            1                                0   \n",
       "\n",
       "        parking_options_carport  parking_options_detached garage  \\\n",
       "14692                         1                                0   \n",
       "14694                         0                                0   \n",
       "14698                         0                                0   \n",
       "379409                        1                                0   \n",
       "379475                        1                                0   \n",
       "\n",
       "        parking_options_no parking  parking_options_off-street parking  \\\n",
       "14692                            0                                   0   \n",
       "14694                            0                                   0   \n",
       "14698                            0                                   0   \n",
       "379409                           0                                   0   \n",
       "379475                           0                                   0   \n",
       "\n",
       "        parking_options_street parking     price  \n",
       "14692                                0  0.407229  \n",
       "14694                                0  0.492530  \n",
       "14698                                0  0.843373  \n",
       "379409                               0  0.648193  \n",
       "379475                               0  0.479518  "
      ]
     },
     "execution_count": 43,
     "metadata": {},
     "output_type": "execute_result"
    }
   ],
   "source": [
    "columns=['beds','baths','smoking_allowed',\n",
    "         'sqfeet', 'description_count','laundry_options_laundry in bldg',\n",
    "         'laundry_options_laundry on site','laundry_options_no laundry on site',\n",
    "         'laundry_options_w/d hookups','laundry_options_w/d in unit',\n",
    "         'parking_options_attached garage','parking_options_carport',\n",
    "         'parking_options_detached garage','parking_options_no parking',\n",
    "         'parking_options_off-street parking','parking_options_street parking',\n",
    "         'price']\n",
    "df_reindex=df_valid3.reindex(columns=columns)\n",
    "df_reindex.tail()"
   ]
  },
  {
   "cell_type": "code",
   "execution_count": 44,
   "metadata": {},
   "outputs": [
    {
     "data": {
      "text/plain": [
       "(1678, 17)"
      ]
     },
     "execution_count": 44,
     "metadata": {},
     "output_type": "execute_result"
    }
   ],
   "source": [
    "df_reindex.shape"
   ]
  },
  {
   "cell_type": "code",
   "execution_count": 45,
   "metadata": {},
   "outputs": [],
   "source": [
    "y=df_reindex.iloc[:, -1]"
   ]
  },
  {
   "cell_type": "code",
   "execution_count": 46,
   "metadata": {},
   "outputs": [
    {
     "name": "stdout",
     "output_type": "stream",
     "text": [
      "856       0.313253\n",
      "6871      0.168675\n",
      "7340      0.481928\n",
      "7482      0.216867\n",
      "7530      0.221687\n",
      "            ...   \n",
      "14692     0.407229\n",
      "14694     0.492530\n",
      "14698     0.843373\n",
      "379409    0.648193\n",
      "379475    0.479518\n",
      "Name: price, Length: 1678, dtype: float64\n"
     ]
    }
   ],
   "source": [
    "print(y)"
   ]
  },
  {
   "cell_type": "code",
   "execution_count": 47,
   "metadata": {},
   "outputs": [],
   "source": [
    "x=df_reindex.iloc[:, 0:16]"
   ]
  },
  {
   "cell_type": "code",
   "execution_count": 48,
   "metadata": {},
   "outputs": [
    {
     "data": {
      "text/plain": [
       "(1678, 16)"
      ]
     },
     "execution_count": 48,
     "metadata": {},
     "output_type": "execute_result"
    }
   ],
   "source": [
    "x.shape"
   ]
  },
  {
   "cell_type": "code",
   "execution_count": 49,
   "metadata": {},
   "outputs": [],
   "source": [
    "from sklearn.model_selection import train_test_split\n",
    "x_train, x_test, y_train, y_test=train_test_split(x, y, test_size=0.2, random_state=0)"
   ]
  },
  {
   "cell_type": "code",
   "execution_count": 50,
   "metadata": {},
   "outputs": [
    {
     "data": {
      "text/plain": [
       "LinearRegression(copy_X=True, fit_intercept=True, n_jobs=None, normalize=False)"
      ]
     },
     "execution_count": 50,
     "metadata": {},
     "output_type": "execute_result"
    }
   ],
   "source": [
    "from sklearn.linear_model import LinearRegression\n",
    "regressor=LinearRegression()\n",
    "regressor.fit(x_train, y_train)"
   ]
  },
  {
   "cell_type": "code",
   "execution_count": 51,
   "metadata": {},
   "outputs": [
    {
     "data": {
      "text/plain": [
       "0.10280138350963058"
      ]
     },
     "execution_count": 51,
     "metadata": {},
     "output_type": "execute_result"
    }
   ],
   "source": [
    "regressor.intercept_"
   ]
  },
  {
   "cell_type": "code",
   "execution_count": 52,
   "metadata": {},
   "outputs": [
    {
     "data": {
      "text/plain": [
       "array([-0.00558229,  0.03997584,  0.01519729,  0.69712843, -0.04205247,\n",
       "       -0.05381574, -0.02513497, -0.08285451, -0.02110916,  0.03381126,\n",
       "       -0.03658575, -0.02727599, -0.01217666,  0.37815477, -0.02144369,\n",
       "       -0.02909931])"
      ]
     },
     "execution_count": 52,
     "metadata": {},
     "output_type": "execute_result"
    }
   ],
   "source": [
    "regressor.coef_"
   ]
  },
  {
   "cell_type": "code",
   "execution_count": 53,
   "metadata": {},
   "outputs": [
    {
     "data": {
      "text/plain": [
       "0.6352977547272287"
      ]
     },
     "execution_count": 53,
     "metadata": {},
     "output_type": "execute_result"
    }
   ],
   "source": [
    "y_pred=regressor.predict(x_test)\n",
    "y_pred[0]"
   ]
  },
  {
   "cell_type": "code",
   "execution_count": 54,
   "metadata": {},
   "outputs": [
    {
     "name": "stdout",
     "output_type": "stream",
     "text": [
      "13723    0.672289\n",
      "13884    0.568675\n",
      "12941    0.385542\n",
      "14147    0.795181\n",
      "12576    0.409639\n",
      "           ...   \n",
      "12187    0.843373\n",
      "13338    0.546988\n",
      "13962    0.650602\n",
      "12211    0.843373\n",
      "13589    0.696386\n",
      "Name: price, Length: 336, dtype: float64\n"
     ]
    }
   ],
   "source": [
    "print(y_test)"
   ]
  },
  {
   "cell_type": "code",
   "execution_count": 55,
   "metadata": {},
   "outputs": [
    {
     "name": "stdout",
     "output_type": "stream",
     "text": [
      "0.7674712790749986\n"
     ]
    }
   ],
   "source": [
    "from sklearn.metrics import r2_score\n",
    "score=r2_score(y_test, y_pred)\n",
    "print(score)"
   ]
  },
  {
   "cell_type": "code",
   "execution_count": 56,
   "metadata": {},
   "outputs": [
    {
     "name": "stdout",
     "output_type": "stream",
     "text": [
      "                            OLS Regression Results                            \n",
      "==============================================================================\n",
      "Dep. Variable:                  price   R-squared:                       0.750\n",
      "Model:                            OLS   Adj. R-squared:                  0.747\n",
      "Method:                 Least Squares   F-statistic:                     310.9\n",
      "Date:                Thu, 08 Oct 2020   Prob (F-statistic):               0.00\n",
      "Time:                        18:24:11   Log-Likelihood:                 1720.4\n",
      "No. Observations:                1678   AIC:                            -3407.\n",
      "Df Residuals:                    1661   BIC:                            -3315.\n",
      "Df Model:                          16                                         \n",
      "Covariance Type:            nonrobust                                         \n",
      "======================================================================================================\n",
      "                                         coef    std err          t      P>|t|      [0.025      0.975]\n",
      "------------------------------------------------------------------------------------------------------\n",
      "const                                  0.1026      0.014      7.482      0.000       0.076       0.129\n",
      "beds                                  -0.0009      0.006     -0.150      0.881      -0.013       0.011\n",
      "baths                                  0.0325      0.007      4.713      0.000       0.019       0.046\n",
      "smoking_allowed                        0.0132      0.006      2.110      0.035       0.001       0.025\n",
      "sqfeet                                 0.7083      0.025     27.799      0.000       0.658       0.758\n",
      "description_count                     -0.0398      0.013     -3.088      0.002      -0.065      -0.015\n",
      "laundry_options_laundry in bldg       -0.0572      0.027     -2.134      0.033      -0.110      -0.005\n",
      "laundry_options_laundry on site       -0.0178      0.012     -1.538      0.124      -0.041       0.005\n",
      "laundry_options_no laundry on site    -0.0781      0.088     -0.886      0.376      -0.251       0.095\n",
      "laundry_options_w/d hookups           -0.0190      0.021     -0.895      0.371      -0.061       0.023\n",
      "laundry_options_w/d in unit            0.0376      0.009      4.111      0.000       0.020       0.056\n",
      "parking_options_attached garage       -0.0385      0.010     -3.917      0.000      -0.058      -0.019\n",
      "parking_options_carport               -0.0323      0.008     -4.229      0.000      -0.047      -0.017\n",
      "parking_options_detached garage       -0.0279      0.012     -2.267      0.023      -0.052      -0.004\n",
      "parking_options_no parking             0.3679      0.088      4.191      0.000       0.196       0.540\n",
      "parking_options_off-street parking    -0.0296      0.014     -2.142      0.032      -0.057      -0.002\n",
      "parking_options_street parking        -0.0313      0.062     -0.506      0.613      -0.153       0.090\n",
      "==============================================================================\n",
      "Omnibus:                      384.299   Durbin-Watson:                   1.885\n",
      "Prob(Omnibus):                  0.000   Jarque-Bera (JB):             4823.216\n",
      "Skew:                           0.703   Prob(JB):                         0.00\n",
      "Kurtosis:                      11.186   Cond. No.                         128.\n",
      "==============================================================================\n",
      "\n",
      "Warnings:\n",
      "[1] Standard Errors assume that the covariance matrix of the errors is correctly specified.\n"
     ]
    }
   ],
   "source": [
    "import statsmodels.api as sm\n",
    "x1=x\n",
    "y1=y\n",
    "x=sm.add_constant(x)\n",
    "model=sm.OLS(y, x).fit()\n",
    "print(model.summary())\n"
   ]
  },
  {
   "cell_type": "code",
   "execution_count": 57,
   "metadata": {},
   "outputs": [
    {
     "data": {
      "text/plain": [
       "0.006755013880615776"
      ]
     },
     "execution_count": 57,
     "metadata": {},
     "output_type": "execute_result"
    }
   ],
   "source": [
    "# checking accuracy using mean square error (MSE)\n",
    "np.mean((y_pred-y_test)**2)"
   ]
  },
  {
   "cell_type": "code",
   "execution_count": 58,
   "metadata": {
    "scrolled": false
   },
   "outputs": [
    {
     "data": {
      "image/png": "[encoded data removed]",
      "text/plain": [
       "<Figure size 1080x360 with 1 Axes>"
      ]
     },
     "metadata": {
      "needs_background": "light"
     },
     "output_type": "display_data"
    }
   ],
   "source": [
    "fig, ax = plt.subplots()\n",
    "ax.scatter(y_test, y_pred)\n",
    "ax.plot([y.min(), y.max()], [y.min(), y.max()], 'k--', lw=4)\n",
    "ax.set_xlabel('Actual')\n",
    "ax.set_ylabel('Predicted')\n",
    "ax.set_title('Mean Square Error(MSE): ' + str(np.mean((y_pred-y_test)**2)))\n",
    "y_test, y_pred=y_test.values.reshape(-1, 1), y_pred.reshape(-1, 1)\n",
    "ax.plot(y_test, LinearRegression().fit(y_test, y_pred).predict(y_test))\n",
    "plt.savefig('scatter.png',bbox_inches='tight', dpi=500 )\n",
    "plt.show()"
   ]
  }
 ],
 "metadata": {
  "kernelspec": {
   "display_name": "Python 3",
   "language": "python",
   "name": "python3"
  },
  "language_info": {
   "codemirror_mode": {
    "name": "ipython",
    "version": 3
   },
   "file_extension": ".py",
   "mimetype": "text/x-python",
   "name": "python",
   "nbconvert_exporter": "python",
   "pygments_lexer": "ipython3",
   "version": "3.7.6"
  }
 },
 "nbformat": 4,
 "nbformat_minor": 4
}
